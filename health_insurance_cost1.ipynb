{
 "cells": [
  {
   "cell_type": "markdown",
   "id": "933bfe12-78ba-4268-a3c1-9a21e80f08c0",
   "metadata": {},
   "source": [
    "## Insurance Cost Prediction"
   ]
  },
  {
   "cell_type": "markdown",
   "id": "e702148b-6ed9-4977-b58a-fadf216a728d",
   "metadata": {},
   "source": [
    "#### Problem Statement\n",
    "Insurance companies need to accurately predict the cost of health insurance for individuals to set premiums appropriately. However, traditional methods of cost prediction often rely on broad actuarial tables and historical averages, which may not account for the nuanced differences among individuals. By leveraging machine learning techniques, insurers can predict more accurately the insurance costs tailored to individual profiles, leading to more competitive pricing and better risk management.\n"
   ]
  },
  {
   "cell_type": "markdown",
   "id": "2e59da14-1518-4972-93f7-c74f3f7ee653",
   "metadata": {},
   "source": [
    "#### Data description\n",
    "\n",
    "* 1. **Age:** Numeric, ranging from 18 to 66 years.\n",
    "* 2. **Diabetes:** Binary (0 or 1), where 1 indicates the presence of diabetes.\n",
    "* 3. **BloodPressureProblems:** Binary (0 or 1), indicating the presence of blood pressure-related issues.\n",
    "* 4. **AnyTransplants:** Binary (0 or 1), where 1 indicates the person has had a transplant.\n",
    "* 5. **AnyChronicDiseases:** Binary (0 or 1), indicating the presence of any chronic diseases.\n",
    "* 6. **Height:** Numeric, measured in centimeters, ranging from 145 cm to 188 cm.\n",
    "* 7. **Weight:** Numeric, measured in kilograms, ranging from 51 kg to 132 kg.\n",
    "* 8. **KnownAllergies:** Binary (0 or 1), where 1 indicates known allergies.\n",
    "* 9. **HistoryOfCancerInFamily:** Binary (0 or 1), indicating a family history of cancer.\n",
    "* 10. **NumberOfMajorSurgeries:** Numeric, counting the number of major surgeries, ranging from 0 to 3 surgeries.\n",
    "* 11. **PremiumPrice:** Numeric, representing the premium price in currency, ranging from 15,000 to 40,000"
   ]
  },
  {
   "cell_type": "code",
   "execution_count": 1,
   "id": "fcb92792-4d38-4087-a477-4da9e1d1d3e8",
   "metadata": {},
   "outputs": [
    {
     "name": "stdout",
     "output_type": "stream",
     "text": [
      "Requirement already satisfied: xgboost in c:\\users\\rahul mangutkar\\anaconda3\\lib\\site-packages (2.1.3)\n",
      "Requirement already satisfied: numpy in c:\\users\\rahul mangutkar\\anaconda3\\lib\\site-packages (from xgboost) (1.26.4)\n",
      "Requirement already satisfied: scipy in c:\\users\\rahul mangutkar\\anaconda3\\lib\\site-packages (from xgboost) (1.13.1)\n"
     ]
    }
   ],
   "source": [
    "!pip install xgboost"
   ]
  },
  {
   "cell_type": "code",
   "execution_count": 2,
   "id": "7364a356-3e14-4f42-8d71-cba6a7383c4a",
   "metadata": {},
   "outputs": [],
   "source": [
    "import numpy as np\n",
    "import pandas as pd\n",
    "import matplotlib.pyplot as plt\n",
    "import seaborn as sns\n",
    "from scipy.stats import pearsonr, spearmanr,ttest_ind, mannwhitneyu,kruskal,chi2_contingency, pointbiserialr\n",
    "from statsmodels.stats.outliers_influence import variance_inflation_factor\n",
    "from collections import Counter\n",
    "from scipy.ndimage import convolve1d\n",
    "from sklearn.model_selection import train_test_split,GridSearchCV\n",
    "from sklearn.preprocessing import StandardScaler\n",
    "from sklearn.linear_model import Ridge, Lasso\n",
    "from sklearn.tree import DecisionTreeRegressor\n",
    "from sklearn.ensemble import RandomForestRegressor\n",
    "import xgboost as xgb\n",
    "from sklearn.metrics import mean_absolute_error, mean_squared_error, r2_score\n",
    "import warnings\n",
    "warnings.filterwarnings('ignore')"
   ]
  },
  {
   "cell_type": "code",
   "execution_count": 3,
   "id": "d8b1937e",
   "metadata": {},
   "outputs": [],
   "source": [
    "data = pd.read_csv(\"insurance.csv\")"
   ]
  },
  {
   "cell_type": "code",
   "execution_count": 4,
   "id": "016d718d",
   "metadata": {},
   "outputs": [
    {
     "data": {
      "text/html": [
       "<div>\n",
       "<style scoped>\n",
       "    .dataframe tbody tr th:only-of-type {\n",
       "        vertical-align: middle;\n",
       "    }\n",
       "\n",
       "    .dataframe tbody tr th {\n",
       "        vertical-align: top;\n",
       "    }\n",
       "\n",
       "    .dataframe thead th {\n",
       "        text-align: right;\n",
       "    }\n",
       "</style>\n",
       "<table border=\"1\" class=\"dataframe\">\n",
       "  <thead>\n",
       "    <tr style=\"text-align: right;\">\n",
       "      <th></th>\n",
       "      <th>Age</th>\n",
       "      <th>Diabetes</th>\n",
       "      <th>BloodPressureProblems</th>\n",
       "      <th>AnyTransplants</th>\n",
       "      <th>AnyChronicDiseases</th>\n",
       "      <th>Height</th>\n",
       "      <th>Weight</th>\n",
       "      <th>KnownAllergies</th>\n",
       "      <th>HistoryOfCancerInFamily</th>\n",
       "      <th>NumberOfMajorSurgeries</th>\n",
       "      <th>PremiumPrice</th>\n",
       "    </tr>\n",
       "  </thead>\n",
       "  <tbody>\n",
       "    <tr>\n",
       "      <th>506</th>\n",
       "      <td>54</td>\n",
       "      <td>0</td>\n",
       "      <td>0</td>\n",
       "      <td>0</td>\n",
       "      <td>0</td>\n",
       "      <td>184</td>\n",
       "      <td>81</td>\n",
       "      <td>0</td>\n",
       "      <td>0</td>\n",
       "      <td>1</td>\n",
       "      <td>29000</td>\n",
       "    </tr>\n",
       "    <tr>\n",
       "      <th>753</th>\n",
       "      <td>30</td>\n",
       "      <td>0</td>\n",
       "      <td>1</td>\n",
       "      <td>0</td>\n",
       "      <td>0</td>\n",
       "      <td>159</td>\n",
       "      <td>87</td>\n",
       "      <td>0</td>\n",
       "      <td>0</td>\n",
       "      <td>1</td>\n",
       "      <td>23000</td>\n",
       "    </tr>\n",
       "    <tr>\n",
       "      <th>274</th>\n",
       "      <td>64</td>\n",
       "      <td>1</td>\n",
       "      <td>0</td>\n",
       "      <td>0</td>\n",
       "      <td>0</td>\n",
       "      <td>163</td>\n",
       "      <td>88</td>\n",
       "      <td>0</td>\n",
       "      <td>0</td>\n",
       "      <td>3</td>\n",
       "      <td>28000</td>\n",
       "    </tr>\n",
       "    <tr>\n",
       "      <th>670</th>\n",
       "      <td>36</td>\n",
       "      <td>0</td>\n",
       "      <td>0</td>\n",
       "      <td>1</td>\n",
       "      <td>1</td>\n",
       "      <td>166</td>\n",
       "      <td>79</td>\n",
       "      <td>0</td>\n",
       "      <td>0</td>\n",
       "      <td>0</td>\n",
       "      <td>38000</td>\n",
       "    </tr>\n",
       "    <tr>\n",
       "      <th>727</th>\n",
       "      <td>45</td>\n",
       "      <td>1</td>\n",
       "      <td>1</td>\n",
       "      <td>0</td>\n",
       "      <td>0</td>\n",
       "      <td>176</td>\n",
       "      <td>58</td>\n",
       "      <td>0</td>\n",
       "      <td>0</td>\n",
       "      <td>0</td>\n",
       "      <td>25000</td>\n",
       "    </tr>\n",
       "  </tbody>\n",
       "</table>\n",
       "</div>"
      ],
      "text/plain": [
       "     Age  Diabetes  BloodPressureProblems  AnyTransplants  AnyChronicDiseases  \\\n",
       "506   54         0                      0               0                   0   \n",
       "753   30         0                      1               0                   0   \n",
       "274   64         1                      0               0                   0   \n",
       "670   36         0                      0               1                   1   \n",
       "727   45         1                      1               0                   0   \n",
       "\n",
       "     Height  Weight  KnownAllergies  HistoryOfCancerInFamily  \\\n",
       "506     184      81               0                        0   \n",
       "753     159      87               0                        0   \n",
       "274     163      88               0                        0   \n",
       "670     166      79               0                        0   \n",
       "727     176      58               0                        0   \n",
       "\n",
       "     NumberOfMajorSurgeries  PremiumPrice  \n",
       "506                       1         29000  \n",
       "753                       1         23000  \n",
       "274                       3         28000  \n",
       "670                       0         38000  \n",
       "727                       0         25000  "
      ]
     },
     "execution_count": 4,
     "metadata": {},
     "output_type": "execute_result"
    }
   ],
   "source": [
    "data.sample(5)"
   ]
  },
  {
   "cell_type": "code",
   "execution_count": 5,
   "id": "ea61be23",
   "metadata": {},
   "outputs": [
    {
     "data": {
      "text/plain": [
       "Index(['Age', 'Diabetes', 'BloodPressureProblems', 'AnyTransplants',\n",
       "       'AnyChronicDiseases', 'Height', 'Weight', 'KnownAllergies',\n",
       "       'HistoryOfCancerInFamily', 'NumberOfMajorSurgeries', 'PremiumPrice'],\n",
       "      dtype='object')"
      ]
     },
     "execution_count": 5,
     "metadata": {},
     "output_type": "execute_result"
    }
   ],
   "source": [
    "data.columns"
   ]
  },
  {
   "cell_type": "code",
   "execution_count": 6,
   "id": "71e24991",
   "metadata": {},
   "outputs": [
    {
     "data": {
      "text/plain": [
       "(986, 11)"
      ]
     },
     "execution_count": 6,
     "metadata": {},
     "output_type": "execute_result"
    }
   ],
   "source": [
    "data.shape"
   ]
  },
  {
   "cell_type": "code",
   "execution_count": 7,
   "id": "26b3dc1f",
   "metadata": {},
   "outputs": [
    {
     "data": {
      "text/plain": [
       "0"
      ]
     },
     "execution_count": 7,
     "metadata": {},
     "output_type": "execute_result"
    }
   ],
   "source": [
    "data.duplicated().sum()"
   ]
  },
  {
   "cell_type": "markdown",
   "id": "3e98b38b-5c6c-4508-adc1-aeec666b0aa5",
   "metadata": {},
   "source": [
    "##### Distribution Analysis"
   ]
  },
  {
   "cell_type": "code",
   "execution_count": 8,
   "id": "241806b9",
   "metadata": {},
   "outputs": [
    {
     "data": {
      "text/html": [
       "<div>\n",
       "<style scoped>\n",
       "    .dataframe tbody tr th:only-of-type {\n",
       "        vertical-align: middle;\n",
       "    }\n",
       "\n",
       "    .dataframe tbody tr th {\n",
       "        vertical-align: top;\n",
       "    }\n",
       "\n",
       "    .dataframe thead th {\n",
       "        text-align: right;\n",
       "    }\n",
       "</style>\n",
       "<table border=\"1\" class=\"dataframe\">\n",
       "  <thead>\n",
       "    <tr style=\"text-align: right;\">\n",
       "      <th></th>\n",
       "      <th>Age</th>\n",
       "      <th>Diabetes</th>\n",
       "      <th>BloodPressureProblems</th>\n",
       "      <th>AnyTransplants</th>\n",
       "      <th>AnyChronicDiseases</th>\n",
       "      <th>Height</th>\n",
       "      <th>Weight</th>\n",
       "      <th>KnownAllergies</th>\n",
       "      <th>HistoryOfCancerInFamily</th>\n",
       "      <th>NumberOfMajorSurgeries</th>\n",
       "      <th>PremiumPrice</th>\n",
       "    </tr>\n",
       "  </thead>\n",
       "  <tbody>\n",
       "    <tr>\n",
       "      <th>count</th>\n",
       "      <td>986.000000</td>\n",
       "      <td>986.000000</td>\n",
       "      <td>986.000000</td>\n",
       "      <td>986.000000</td>\n",
       "      <td>986.000000</td>\n",
       "      <td>986.000000</td>\n",
       "      <td>986.000000</td>\n",
       "      <td>986.000000</td>\n",
       "      <td>986.000000</td>\n",
       "      <td>986.000000</td>\n",
       "      <td>986.000000</td>\n",
       "    </tr>\n",
       "    <tr>\n",
       "      <th>mean</th>\n",
       "      <td>41.745436</td>\n",
       "      <td>0.419878</td>\n",
       "      <td>0.468560</td>\n",
       "      <td>0.055781</td>\n",
       "      <td>0.180527</td>\n",
       "      <td>168.182556</td>\n",
       "      <td>76.950304</td>\n",
       "      <td>0.215010</td>\n",
       "      <td>0.117647</td>\n",
       "      <td>0.667343</td>\n",
       "      <td>24336.713996</td>\n",
       "    </tr>\n",
       "    <tr>\n",
       "      <th>std</th>\n",
       "      <td>13.963371</td>\n",
       "      <td>0.493789</td>\n",
       "      <td>0.499264</td>\n",
       "      <td>0.229615</td>\n",
       "      <td>0.384821</td>\n",
       "      <td>10.098155</td>\n",
       "      <td>14.265096</td>\n",
       "      <td>0.411038</td>\n",
       "      <td>0.322353</td>\n",
       "      <td>0.749205</td>\n",
       "      <td>6248.184382</td>\n",
       "    </tr>\n",
       "    <tr>\n",
       "      <th>min</th>\n",
       "      <td>18.000000</td>\n",
       "      <td>0.000000</td>\n",
       "      <td>0.000000</td>\n",
       "      <td>0.000000</td>\n",
       "      <td>0.000000</td>\n",
       "      <td>145.000000</td>\n",
       "      <td>51.000000</td>\n",
       "      <td>0.000000</td>\n",
       "      <td>0.000000</td>\n",
       "      <td>0.000000</td>\n",
       "      <td>15000.000000</td>\n",
       "    </tr>\n",
       "    <tr>\n",
       "      <th>25%</th>\n",
       "      <td>30.000000</td>\n",
       "      <td>0.000000</td>\n",
       "      <td>0.000000</td>\n",
       "      <td>0.000000</td>\n",
       "      <td>0.000000</td>\n",
       "      <td>161.000000</td>\n",
       "      <td>67.000000</td>\n",
       "      <td>0.000000</td>\n",
       "      <td>0.000000</td>\n",
       "      <td>0.000000</td>\n",
       "      <td>21000.000000</td>\n",
       "    </tr>\n",
       "    <tr>\n",
       "      <th>50%</th>\n",
       "      <td>42.000000</td>\n",
       "      <td>0.000000</td>\n",
       "      <td>0.000000</td>\n",
       "      <td>0.000000</td>\n",
       "      <td>0.000000</td>\n",
       "      <td>168.000000</td>\n",
       "      <td>75.000000</td>\n",
       "      <td>0.000000</td>\n",
       "      <td>0.000000</td>\n",
       "      <td>1.000000</td>\n",
       "      <td>23000.000000</td>\n",
       "    </tr>\n",
       "    <tr>\n",
       "      <th>75%</th>\n",
       "      <td>53.000000</td>\n",
       "      <td>1.000000</td>\n",
       "      <td>1.000000</td>\n",
       "      <td>0.000000</td>\n",
       "      <td>0.000000</td>\n",
       "      <td>176.000000</td>\n",
       "      <td>87.000000</td>\n",
       "      <td>0.000000</td>\n",
       "      <td>0.000000</td>\n",
       "      <td>1.000000</td>\n",
       "      <td>28000.000000</td>\n",
       "    </tr>\n",
       "    <tr>\n",
       "      <th>max</th>\n",
       "      <td>66.000000</td>\n",
       "      <td>1.000000</td>\n",
       "      <td>1.000000</td>\n",
       "      <td>1.000000</td>\n",
       "      <td>1.000000</td>\n",
       "      <td>188.000000</td>\n",
       "      <td>132.000000</td>\n",
       "      <td>1.000000</td>\n",
       "      <td>1.000000</td>\n",
       "      <td>3.000000</td>\n",
       "      <td>40000.000000</td>\n",
       "    </tr>\n",
       "  </tbody>\n",
       "</table>\n",
       "</div>"
      ],
      "text/plain": [
       "              Age    Diabetes  BloodPressureProblems  AnyTransplants  \\\n",
       "count  986.000000  986.000000             986.000000      986.000000   \n",
       "mean    41.745436    0.419878               0.468560        0.055781   \n",
       "std     13.963371    0.493789               0.499264        0.229615   \n",
       "min     18.000000    0.000000               0.000000        0.000000   \n",
       "25%     30.000000    0.000000               0.000000        0.000000   \n",
       "50%     42.000000    0.000000               0.000000        0.000000   \n",
       "75%     53.000000    1.000000               1.000000        0.000000   \n",
       "max     66.000000    1.000000               1.000000        1.000000   \n",
       "\n",
       "       AnyChronicDiseases      Height      Weight  KnownAllergies  \\\n",
       "count          986.000000  986.000000  986.000000      986.000000   \n",
       "mean             0.180527  168.182556   76.950304        0.215010   \n",
       "std              0.384821   10.098155   14.265096        0.411038   \n",
       "min              0.000000  145.000000   51.000000        0.000000   \n",
       "25%              0.000000  161.000000   67.000000        0.000000   \n",
       "50%              0.000000  168.000000   75.000000        0.000000   \n",
       "75%              0.000000  176.000000   87.000000        0.000000   \n",
       "max              1.000000  188.000000  132.000000        1.000000   \n",
       "\n",
       "       HistoryOfCancerInFamily  NumberOfMajorSurgeries  PremiumPrice  \n",
       "count               986.000000              986.000000    986.000000  \n",
       "mean                  0.117647                0.667343  24336.713996  \n",
       "std                   0.322353                0.749205   6248.184382  \n",
       "min                   0.000000                0.000000  15000.000000  \n",
       "25%                   0.000000                0.000000  21000.000000  \n",
       "50%                   0.000000                1.000000  23000.000000  \n",
       "75%                   0.000000                1.000000  28000.000000  \n",
       "max                   1.000000                3.000000  40000.000000  "
      ]
     },
     "execution_count": 8,
     "metadata": {},
     "output_type": "execute_result"
    }
   ],
   "source": [
    "data.describe()"
   ]
  },
  {
   "cell_type": "code",
   "execution_count": 9,
   "id": "4582b2f5",
   "metadata": {},
   "outputs": [
    {
     "name": "stdout",
     "output_type": "stream",
     "text": [
      "<class 'pandas.core.frame.DataFrame'>\n",
      "RangeIndex: 986 entries, 0 to 985\n",
      "Data columns (total 11 columns):\n",
      " #   Column                   Non-Null Count  Dtype\n",
      "---  ------                   --------------  -----\n",
      " 0   Age                      986 non-null    int64\n",
      " 1   Diabetes                 986 non-null    int64\n",
      " 2   BloodPressureProblems    986 non-null    int64\n",
      " 3   AnyTransplants           986 non-null    int64\n",
      " 4   AnyChronicDiseases       986 non-null    int64\n",
      " 5   Height                   986 non-null    int64\n",
      " 6   Weight                   986 non-null    int64\n",
      " 7   KnownAllergies           986 non-null    int64\n",
      " 8   HistoryOfCancerInFamily  986 non-null    int64\n",
      " 9   NumberOfMajorSurgeries   986 non-null    int64\n",
      " 10  PremiumPrice             986 non-null    int64\n",
      "dtypes: int64(11)\n",
      "memory usage: 84.9 KB\n"
     ]
    }
   ],
   "source": [
    "data.info() "
   ]
  },
  {
   "cell_type": "markdown",
   "id": "d2a585aa",
   "metadata": {},
   "source": [
    "#### Observations\n",
    "* Dataset doesn't hold repeated entries and doesn't have null values\n",
    "* Dataset have all numeric columns--> no need to convert datatypes\n",
    "* **Height**--> Mean of height is 168, and approximately 68% of the individuals have heights within the 158 - 178 range as std is 10\n",
    "* **weight** --> mean value and median values are close,  suggesting the central tendency of the data is roughly symmetric. Still, the standard deviation (14) and range(min 51, max 132) highlight possible right-skewness or outliers.\n",
    "* **age** --> average age is around 42, and std is 13, which indicates how much the ages vary from the mean.\n",
    "* **PremiumPrice** -> This is our target variable, which shows moderate variation among data values.\n",
    "* **Binary Features**\n",
    "  * **Diabetes and BloodPressureProblems** --> Std  0.49 indicates a near-equal distribution of individuals with and without diabetes and blood pressure problems.\n",
    "  * **AnyTransplants** --> Lower std (0.23) reflects the majority of values are 0, which means most people did not have transplants and indicates an imbalanced dataset. The mean indicates only ~5% of individuals have had transplants, and ~95% have not\n",
    "  * **AnyChronicDiseases** -->  On average ~18% of individuals have chronic diseases (1), and ~82% do not (0).  Std 0.38 indicates this feature is imbalanced, a majority of values are 0.\n",
    "  * **KnownAllergies** --> ~21% of individuals have known allergies (1), and ~79% do not (0). Std 0.41, though slightly higher than AnyChronicDiseases, still reflects an imbalance in favor of 0.\n",
    "  * **HistoryOfCancerInFamily** --> ~12% of individuals have a family history of cancer (1), and ~88% do not (0). Std 0.32 is relatively low, indicating a strong imbalance toward 0.\n",
    "  * **NumberOfMajorSurgeries** --> The average number of major surgeries is 0.67, suggesting most individuals have undergone less than 1 surgery on average. Std 0.75 shows moderate variability, meaning there’s a wide range in the number of surgeries individuals have had.\n",
    "\n",
    "\n",
    "\n",
    "\n",
    "\n",
    "\n",
    "\n"
   ]
  },
  {
   "cell_type": "markdown",
   "id": "a5752dbd",
   "metadata": {},
   "source": [
    "#### Actions to take\n",
    "* Check if features hold outliers. If so, we need to handle outliers.\n",
    "* Check the nature of the target feature.\n",
    "* Analyse the distribution of binary features.\n",
    "* Check colinearity between binary features. \n",
    "* Need to perform standardization \n",
    "* Handle imbalanced data --> Does Imbalance independent features Directly Impact the Model?  {**If the imbalanced features significantly influence the target variable (e.g., they are strongly correlated or important predictors), the imbalance may need to be addressed.**} \n",
    "* Are Binary Features Leading to Model Bias?(*tree based model / linear model*)"
   ]
  },
  {
   "cell_type": "markdown",
   "id": "de4d2f59",
   "metadata": {},
   "source": [
    "#### Univariate Analysis \n"
   ]
  },
  {
   "cell_type": "code",
   "execution_count": 10,
   "id": "dd94a3b2",
   "metadata": {},
   "outputs": [
    {
     "data": {
      "text/plain": [
       "Text(0.5, 1.0, 'Age Distribution')"
      ]
     },
     "execution_count": 10,
     "metadata": {},
     "output_type": "execute_result"
    },
    {
     "data": {
      "image/png": "[encoded data removed]",
      "text/plain": [
       "<Figure size 1000x600 with 1 Axes>"
      ]
     },
     "metadata": {},
     "output_type": "display_data"
    }
   ],
   "source": [
    "plt.figure(figsize =(10,6))\n",
    "bins = [18, 21, 26, 31, 36, 41, 46, 51, 56, 61, 67]\n",
    "labels = ['18-20', '21-25', '26-30', '31-35', '36-40', '41-45', '46-50', '51-55', '56-60', '61-67']\n",
    "data['age_bucket'] = pd.cut(data['Age'], bins=bins, labels=labels, right=False)\n",
    "sns.countplot(data['age_bucket'])\n",
    "plt.title('Age Distribution')"
   ]
  },
  {
   "cell_type": "code",
   "execution_count": 11,
   "id": "d6159047-e5be-4a1f-9ce5-353175c44701",
   "metadata": {},
   "outputs": [
    {
     "data": {
      "text/plain": [
       "age_bucket\n",
       "41-45    124\n",
       "61-67    118\n",
       "46-50    112\n",
       "31-35    109\n",
       "26-30    101\n",
       "21-25     99\n",
       "51-55     93\n",
       "56-60     85\n",
       "36-40     84\n",
       "18-20     61\n",
       "Name: count, dtype: int64"
      ]
     },
     "execution_count": 11,
     "metadata": {},
     "output_type": "execute_result"
    }
   ],
   "source": [
    "data['age_bucket'].value_counts()"
   ]
  },
  {
   "cell_type": "markdown",
   "id": "e81ee773",
   "metadata": {},
   "source": [
    "* 18-20, 36-40, and 51-60  age groups are much fewer data points, which may affect analysis or model outcomes if the age-related feature is important.\n",
    "* Individuals in the 18-20 age category may be students or just starting their careers. As a result, they might not be very interested in purchasing insurance."
   ]
  },
  {
   "cell_type": "code",
   "execution_count": 12,
   "id": "eb674751",
   "metadata": {},
   "outputs": [
    {
     "data": {
      "text/plain": [
       "Text(0.5, 1.0, 'Weight Distribution')"
      ]
     },
     "execution_count": 12,
     "metadata": {},
     "output_type": "execute_result"
    },
    {
     "data": {
      "image/png": "[encoded data removed]",
      "text/plain": [
       "<Figure size 1000x600 with 2 Axes>"
      ]
     },
     "metadata": {},
     "output_type": "display_data"
    }
   ],
   "source": [
    "plt.figure(figsize =(10,6))\n",
    "plt.subplot(1, 2, 1)\n",
    "sns.histplot(data['Height'], kde = True)\n",
    "plt.title('Height Distribution')\n",
    "plt.subplot(1, 2, 2)\n",
    "sns.histplot(data['Weight'], kde = True)\n",
    "plt.title('Weight Distribution')"
   ]
  },
  {
   "cell_type": "markdown",
   "id": "6e3e742a",
   "metadata": {},
   "source": [
    "* weight feature is right skewed as few individuals having 100+ weight\n",
    "* We need to perform more investigation for individuals having 100+ weight as they cannot be considered outliers for data points having 100+."
   ]
  },
  {
   "cell_type": "code",
   "execution_count": 13,
   "id": "2c414753-7187-47f5-9dc1-f93f15986beb",
   "metadata": {},
   "outputs": [
    {
     "data": {
      "text/plain": [
       "NumberOfMajorSurgeries\n",
       "0    479\n",
       "1    372\n",
       "2    119\n",
       "3     16\n",
       "Name: count, dtype: int64"
      ]
     },
     "execution_count": 13,
     "metadata": {},
     "output_type": "execute_result"
    }
   ],
   "source": [
    "data['NumberOfMajorSurgeries'].value_counts()"
   ]
  },
  {
   "cell_type": "code",
   "execution_count": 14,
   "id": "ae34eaa8-9cc6-429e-8855-668c3ae4bf33",
   "metadata": {},
   "outputs": [
    {
     "data": {
      "image/png": "[encoded data removed]",
      "text/plain": [
       "<Figure size 600x400 with 1 Axes>"
      ]
     },
     "metadata": {},
     "output_type": "display_data"
    }
   ],
   "source": [
    "plt.figure(figsize=(6, 4))\n",
    "sns.countplot(x='NumberOfMajorSurgeries', data=data, palette='viridis')\n",
    "plt.title('Number of Major Surgeries Distribution')\n",
    "plt.xlabel('Number of Major Surgeries')\n",
    "plt.ylabel('Count')\n",
    "plt.show()"
   ]
  },
  {
   "cell_type": "markdown",
   "id": "3041d707-b12e-420d-9b43-711383b05ad8",
   "metadata": {},
   "source": [
    "* Very few counts have a high number of major surgeries.\n",
    "* Most of the data points belong to those individuals who haven't done any major surgery or have around one major surgery."
   ]
  },
  {
   "cell_type": "code",
   "execution_count": 15,
   "id": "f91f8454-cd0d-4eb5-82df-608bde0f909a",
   "metadata": {},
   "outputs": [
    {
     "data": {
      "text/plain": [
       "<Figure size 1000x600 with 0 Axes>"
      ]
     },
     "metadata": {},
     "output_type": "display_data"
    },
    {
     "data": {
      "image/png": "[encoded data removed]",
      "text/plain": [
       "<Figure size 1000x600 with 1 Axes>"
      ]
     },
     "metadata": {},
     "output_type": "display_data"
    }
   ],
   "source": [
    "binary_columns = ['Diabetes', 'BloodPressureProblems', 'AnyTransplants',\n",
    "       'AnyChronicDiseases',  'KnownAllergies','HistoryOfCancerInFamily',]\n",
    "\n",
    "# Count 0s and 1s for the each binary columns\n",
    "counts = data[binary_columns].apply(pd.Series.value_counts).transpose()\n",
    "plt.figure(figsize=(10, 6))\n",
    "counts.plot(kind='bar', figsize=(10, 6), color=['#66b3ff', '#ff9999'])\n",
    "plt.title('Distribution of Binary Features')\n",
    "plt.xlabel(' Binary Features')\n",
    "plt.ylabel('Count')\n",
    "plt.legend(['0', '1'])\n",
    "plt.xticks(rotation=45)\n",
    "plt.show()\n"
   ]
  },
  {
   "cell_type": "markdown",
   "id": "911c57bc-48d2-49bf-8583-40b36178ee93",
   "metadata": {},
   "source": [
    "* Diabetes and BloodPressureProblems features are nearly balanced data. Whereas,  AnyTrasplant, AnyChronicDisease KnownAllergies, and HistoryOfCancerInFamily features are imbalanced.\n"
   ]
  },
  {
   "cell_type": "markdown",
   "id": "b6b7cd3b-bba9-483c-963b-e1c94cf3acbc",
   "metadata": {},
   "source": [
    "#### Actions to take"
   ]
  },
  {
   "cell_type": "markdown",
   "id": "c4969261-6ec2-4bd3-ae95-c23e66002b42",
   "metadata": {},
   "source": [
    "* Need to handle imbalanced binary features as it may impact on model\n",
    "* To handle imbalanced binary features, we can use **Tree-based models** as these models are less sensitive as models split on feature values. Therefore, they can easily handle binary features regardless of their distribution (whether one value dominates).\n",
    "* However, the features AnyTrasplant, AnyChronicDisease KnownAllergies, and HistoryOfCancerInFamily are highly imbalanced (e.g., 95% 0 and 5% 1) because this model will prioritize the more frequent value in most splits.\n",
    "* To handle this we can use **regularization techniques, Re-sampling** (only on training data) and **Feature Engineering** to create composite features."
   ]
  },
  {
   "cell_type": "code",
   "execution_count": 16,
   "id": "d808a802",
   "metadata": {},
   "outputs": [
    {
     "data": {
      "text/plain": [
       "<Axes: xlabel='PremiumPrice', ylabel='Count'>"
      ]
     },
     "execution_count": 16,
     "metadata": {},
     "output_type": "execute_result"
    },
    {
     "data": {
      "image/png": "[encoded data removed]",
      "text/plain": [
       "<Figure size 1000x600 with 1 Axes>"
      ]
     },
     "metadata": {},
     "output_type": "display_data"
    }
   ],
   "source": [
    "plt.figure(figsize =(10,6))\n",
    "sns.histplot(data['PremiumPrice'], kde= True, bins = 25)"
   ]
  },
  {
   "cell_type": "code",
   "execution_count": 17,
   "id": "479f56ec",
   "metadata": {},
   "outputs": [
    {
     "data": {
      "text/plain": [
       "[15000,\n",
       " 16000,\n",
       " 17000,\n",
       " 18000,\n",
       " 19000,\n",
       " 20000,\n",
       " 21000,\n",
       " 22000,\n",
       " 23000,\n",
       " 24000,\n",
       " 25000,\n",
       " 26000,\n",
       " 27000,\n",
       " 28000,\n",
       " 29000,\n",
       " 30000,\n",
       " 31000,\n",
       " 32000,\n",
       " 34000,\n",
       " 35000,\n",
       " 36000,\n",
       " 38000,\n",
       " 39000,\n",
       " 40000]"
      ]
     },
     "execution_count": 17,
     "metadata": {},
     "output_type": "execute_result"
    }
   ],
   "source": [
    "sorted(data['PremiumPrice'].unique())"
   ]
  },
  {
   "cell_type": "markdown",
   "id": "5152c24e",
   "metadata": {},
   "source": [
    " * premium range is from 15000- 40000 and data is missing for 37000 this price premium \n",
    " *  The most frequent premium prices are 23,000 and 15,000, indicating that these are a popular choice amongst individuals.\n",
    " * The target feature have unique values in discrete nature, for prediction we can use linear regression.\n",
    " * These values, while discrete, are not in a perfectly smooth range. They represent distinct clusters or ranges of premiums, which suggests that this problem could potentially be treated as a classification problem."
   ]
  },
  {
   "cell_type": "markdown",
   "id": "8be6091a-f33d-4bb7-868d-cf208ea95d04",
   "metadata": {},
   "source": [
    "##### Actions to take \n",
    "* Need handle imbalanced for target featurein data preprocessing phase.\n",
    "* We can use **Label Distribution Smoothing (LDS)** technique this will help to smoothing to the target values (labels) by considering the similarity between nearby target values.\n",
    "*  In LDS we can use **Gaussian smoothing** or **kernel density estimation** if needed.\n",
    "*  https://chatgpt.com/c/678e73c9-f4cc-8001-8223-5cb1ec74e5f2 --> multiclass vs multilevel"
   ]
  },
  {
   "cell_type": "code",
   "execution_count": 18,
   "id": "ab47e0a8-18b7-43db-a855-173bdbea222b",
   "metadata": {},
   "outputs": [
    {
     "data": {
      "text/html": [
       "<div>\n",
       "<style scoped>\n",
       "    .dataframe tbody tr th:only-of-type {\n",
       "        vertical-align: middle;\n",
       "    }\n",
       "\n",
       "    .dataframe tbody tr th {\n",
       "        vertical-align: top;\n",
       "    }\n",
       "\n",
       "    .dataframe thead th {\n",
       "        text-align: right;\n",
       "    }\n",
       "</style>\n",
       "<table border=\"1\" class=\"dataframe\">\n",
       "  <thead>\n",
       "    <tr style=\"text-align: right;\">\n",
       "      <th></th>\n",
       "      <th>Age</th>\n",
       "      <th>Diabetes</th>\n",
       "      <th>BloodPressureProblems</th>\n",
       "      <th>AnyTransplants</th>\n",
       "      <th>AnyChronicDiseases</th>\n",
       "      <th>Height</th>\n",
       "      <th>Weight</th>\n",
       "      <th>KnownAllergies</th>\n",
       "      <th>HistoryOfCancerInFamily</th>\n",
       "      <th>NumberOfMajorSurgeries</th>\n",
       "      <th>PremiumPrice</th>\n",
       "      <th>age_bucket</th>\n",
       "    </tr>\n",
       "  </thead>\n",
       "  <tbody>\n",
       "    <tr>\n",
       "      <th>0</th>\n",
       "      <td>45</td>\n",
       "      <td>0</td>\n",
       "      <td>0</td>\n",
       "      <td>0</td>\n",
       "      <td>0</td>\n",
       "      <td>155</td>\n",
       "      <td>57</td>\n",
       "      <td>0</td>\n",
       "      <td>0</td>\n",
       "      <td>0</td>\n",
       "      <td>25000</td>\n",
       "      <td>41-45</td>\n",
       "    </tr>\n",
       "    <tr>\n",
       "      <th>1</th>\n",
       "      <td>60</td>\n",
       "      <td>1</td>\n",
       "      <td>0</td>\n",
       "      <td>0</td>\n",
       "      <td>0</td>\n",
       "      <td>180</td>\n",
       "      <td>73</td>\n",
       "      <td>0</td>\n",
       "      <td>0</td>\n",
       "      <td>0</td>\n",
       "      <td>29000</td>\n",
       "      <td>56-60</td>\n",
       "    </tr>\n",
       "    <tr>\n",
       "      <th>2</th>\n",
       "      <td>36</td>\n",
       "      <td>1</td>\n",
       "      <td>1</td>\n",
       "      <td>0</td>\n",
       "      <td>0</td>\n",
       "      <td>158</td>\n",
       "      <td>59</td>\n",
       "      <td>0</td>\n",
       "      <td>0</td>\n",
       "      <td>1</td>\n",
       "      <td>23000</td>\n",
       "      <td>36-40</td>\n",
       "    </tr>\n",
       "    <tr>\n",
       "      <th>3</th>\n",
       "      <td>52</td>\n",
       "      <td>1</td>\n",
       "      <td>1</td>\n",
       "      <td>0</td>\n",
       "      <td>1</td>\n",
       "      <td>183</td>\n",
       "      <td>93</td>\n",
       "      <td>0</td>\n",
       "      <td>0</td>\n",
       "      <td>2</td>\n",
       "      <td>28000</td>\n",
       "      <td>51-55</td>\n",
       "    </tr>\n",
       "    <tr>\n",
       "      <th>4</th>\n",
       "      <td>38</td>\n",
       "      <td>0</td>\n",
       "      <td>0</td>\n",
       "      <td>0</td>\n",
       "      <td>1</td>\n",
       "      <td>166</td>\n",
       "      <td>88</td>\n",
       "      <td>0</td>\n",
       "      <td>0</td>\n",
       "      <td>1</td>\n",
       "      <td>23000</td>\n",
       "      <td>36-40</td>\n",
       "    </tr>\n",
       "  </tbody>\n",
       "</table>\n",
       "</div>"
      ],
      "text/plain": [
       "   Age  Diabetes  BloodPressureProblems  AnyTransplants  AnyChronicDiseases  \\\n",
       "0   45         0                      0               0                   0   \n",
       "1   60         1                      0               0                   0   \n",
       "2   36         1                      1               0                   0   \n",
       "3   52         1                      1               0                   1   \n",
       "4   38         0                      0               0                   1   \n",
       "\n",
       "   Height  Weight  KnownAllergies  HistoryOfCancerInFamily  \\\n",
       "0     155      57               0                        0   \n",
       "1     180      73               0                        0   \n",
       "2     158      59               0                        0   \n",
       "3     183      93               0                        0   \n",
       "4     166      88               0                        0   \n",
       "\n",
       "   NumberOfMajorSurgeries  PremiumPrice age_bucket  \n",
       "0                       0         25000      41-45  \n",
       "1                       0         29000      56-60  \n",
       "2                       1         23000      36-40  \n",
       "3                       2         28000      51-55  \n",
       "4                       1         23000      36-40  "
      ]
     },
     "execution_count": 18,
     "metadata": {},
     "output_type": "execute_result"
    }
   ],
   "source": [
    "data.head()"
   ]
  },
  {
   "cell_type": "code",
   "execution_count": 19,
   "id": "080a56fe-b4bb-4826-a873-3de0e5b29137",
   "metadata": {},
   "outputs": [],
   "source": [
    "age_grouped = (\n",
    "    data.groupby(by=\"age_bucket\")[\"Diabetes\"]\n",
    "    .apply(lambda x: (x == 1).sum()) \n",
    "    .reset_index(name=\"Diabetes_Count\") \n",
    ")"
   ]
  },
  {
   "cell_type": "code",
   "execution_count": 20,
   "id": "2c03daa7-71ed-4491-a296-58f8715795a7",
   "metadata": {},
   "outputs": [
    {
     "data": {
      "text/html": [
       "<div>\n",
       "<style scoped>\n",
       "    .dataframe tbody tr th:only-of-type {\n",
       "        vertical-align: middle;\n",
       "    }\n",
       "\n",
       "    .dataframe tbody tr th {\n",
       "        vertical-align: top;\n",
       "    }\n",
       "\n",
       "    .dataframe thead th {\n",
       "        text-align: right;\n",
       "    }\n",
       "</style>\n",
       "<table border=\"1\" class=\"dataframe\">\n",
       "  <thead>\n",
       "    <tr style=\"text-align: right;\">\n",
       "      <th></th>\n",
       "      <th>age_bucket</th>\n",
       "      <th>Diabetes_Count</th>\n",
       "    </tr>\n",
       "  </thead>\n",
       "  <tbody>\n",
       "    <tr>\n",
       "      <th>0</th>\n",
       "      <td>18-20</td>\n",
       "      <td>16</td>\n",
       "    </tr>\n",
       "    <tr>\n",
       "      <th>1</th>\n",
       "      <td>21-25</td>\n",
       "      <td>33</td>\n",
       "    </tr>\n",
       "    <tr>\n",
       "      <th>2</th>\n",
       "      <td>26-30</td>\n",
       "      <td>36</td>\n",
       "    </tr>\n",
       "    <tr>\n",
       "      <th>3</th>\n",
       "      <td>31-35</td>\n",
       "      <td>30</td>\n",
       "    </tr>\n",
       "    <tr>\n",
       "      <th>4</th>\n",
       "      <td>36-40</td>\n",
       "      <td>29</td>\n",
       "    </tr>\n",
       "    <tr>\n",
       "      <th>5</th>\n",
       "      <td>41-45</td>\n",
       "      <td>51</td>\n",
       "    </tr>\n",
       "    <tr>\n",
       "      <th>6</th>\n",
       "      <td>46-50</td>\n",
       "      <td>56</td>\n",
       "    </tr>\n",
       "    <tr>\n",
       "      <th>7</th>\n",
       "      <td>51-55</td>\n",
       "      <td>44</td>\n",
       "    </tr>\n",
       "    <tr>\n",
       "      <th>8</th>\n",
       "      <td>56-60</td>\n",
       "      <td>47</td>\n",
       "    </tr>\n",
       "    <tr>\n",
       "      <th>9</th>\n",
       "      <td>61-67</td>\n",
       "      <td>72</td>\n",
       "    </tr>\n",
       "  </tbody>\n",
       "</table>\n",
       "</div>"
      ],
      "text/plain": [
       "  age_bucket  Diabetes_Count\n",
       "0      18-20              16\n",
       "1      21-25              33\n",
       "2      26-30              36\n",
       "3      31-35              30\n",
       "4      36-40              29\n",
       "5      41-45              51\n",
       "6      46-50              56\n",
       "7      51-55              44\n",
       "8      56-60              47\n",
       "9      61-67              72"
      ]
     },
     "execution_count": 20,
     "metadata": {},
     "output_type": "execute_result"
    }
   ],
   "source": [
    "age_grouped"
   ]
  },
  {
   "cell_type": "code",
   "execution_count": 21,
   "id": "a31ed972-beba-42e0-8f22-8acd0cad9530",
   "metadata": {},
   "outputs": [
    {
     "data": {
      "text/plain": [
       "Diabetes\n",
       "0    572\n",
       "1    414\n",
       "Name: count, dtype: int64"
      ]
     },
     "execution_count": 21,
     "metadata": {},
     "output_type": "execute_result"
    }
   ],
   "source": [
    "data['Diabetes'].value_counts()"
   ]
  },
  {
   "cell_type": "code",
   "execution_count": 22,
   "id": "3e30a514-92ab-45fa-8732-232139265794",
   "metadata": {},
   "outputs": [],
   "source": [
    "age_grouped = (\n",
    "    data.groupby(by=\"age_bucket\")\n",
    "    .agg(\n",
    "        Diabetes_Count=(\"Diabetes\", lambda x: (x == 1).sum() if len(x) > 0 else 0),\n",
    "        BloodPressureProblems_Count=(\"BloodPressureProblems\",lambda x: (x == 1).sum() if len(x) > 0 else 0), \n",
    "        AnyTransplants_Count=(\"AnyTransplants\", lambda x: (x == 1).sum() if len(x) > 0 else 0),\n",
    "        AnyChronicDiseases_Count=(\"AnyChronicDiseases\", lambda x: (x == 1).sum() if len(x) > 0 else 0),\n",
    "        KnownAllergies_Count=(\"KnownAllergies\", lambda x: (x == 1).sum() if len(x) > 0 else 0),\n",
    "        HistoryOfCancerInFamily_Count=(\"HistoryOfCancerInFamily\", lambda x: (x == 1).sum() if len(x) > 0 else 0)\n",
    "    )\n",
    "    .reset_index()\n",
    ")"
   ]
  },
  {
   "cell_type": "code",
   "execution_count": 23,
   "id": "9b451439-e38d-48e1-b7c3-e290ed0b54ce",
   "metadata": {},
   "outputs": [
    {
     "data": {
      "text/html": [
       "<div>\n",
       "<style scoped>\n",
       "    .dataframe tbody tr th:only-of-type {\n",
       "        vertical-align: middle;\n",
       "    }\n",
       "\n",
       "    .dataframe tbody tr th {\n",
       "        vertical-align: top;\n",
       "    }\n",
       "\n",
       "    .dataframe thead th {\n",
       "        text-align: right;\n",
       "    }\n",
       "</style>\n",
       "<table border=\"1\" class=\"dataframe\">\n",
       "  <thead>\n",
       "    <tr style=\"text-align: right;\">\n",
       "      <th></th>\n",
       "      <th>age_bucket</th>\n",
       "      <th>Diabetes_Count</th>\n",
       "      <th>BloodPressureProblems_Count</th>\n",
       "      <th>AnyTransplants_Count</th>\n",
       "      <th>AnyChronicDiseases_Count</th>\n",
       "      <th>KnownAllergies_Count</th>\n",
       "      <th>HistoryOfCancerInFamily_Count</th>\n",
       "    </tr>\n",
       "  </thead>\n",
       "  <tbody>\n",
       "    <tr>\n",
       "      <th>0</th>\n",
       "      <td>18-20</td>\n",
       "      <td>16</td>\n",
       "      <td>13</td>\n",
       "      <td>1</td>\n",
       "      <td>0</td>\n",
       "      <td>16</td>\n",
       "      <td>9</td>\n",
       "    </tr>\n",
       "    <tr>\n",
       "      <th>1</th>\n",
       "      <td>21-25</td>\n",
       "      <td>33</td>\n",
       "      <td>42</td>\n",
       "      <td>10</td>\n",
       "      <td>5</td>\n",
       "      <td>23</td>\n",
       "      <td>12</td>\n",
       "    </tr>\n",
       "    <tr>\n",
       "      <th>2</th>\n",
       "      <td>26-30</td>\n",
       "      <td>36</td>\n",
       "      <td>33</td>\n",
       "      <td>4</td>\n",
       "      <td>24</td>\n",
       "      <td>19</td>\n",
       "      <td>13</td>\n",
       "    </tr>\n",
       "    <tr>\n",
       "      <th>3</th>\n",
       "      <td>31-35</td>\n",
       "      <td>30</td>\n",
       "      <td>47</td>\n",
       "      <td>8</td>\n",
       "      <td>24</td>\n",
       "      <td>19</td>\n",
       "      <td>12</td>\n",
       "    </tr>\n",
       "    <tr>\n",
       "      <th>4</th>\n",
       "      <td>36-40</td>\n",
       "      <td>29</td>\n",
       "      <td>34</td>\n",
       "      <td>5</td>\n",
       "      <td>21</td>\n",
       "      <td>24</td>\n",
       "      <td>10</td>\n",
       "    </tr>\n",
       "    <tr>\n",
       "      <th>5</th>\n",
       "      <td>41-45</td>\n",
       "      <td>51</td>\n",
       "      <td>47</td>\n",
       "      <td>6</td>\n",
       "      <td>30</td>\n",
       "      <td>23</td>\n",
       "      <td>14</td>\n",
       "    </tr>\n",
       "    <tr>\n",
       "      <th>6</th>\n",
       "      <td>46-50</td>\n",
       "      <td>56</td>\n",
       "      <td>55</td>\n",
       "      <td>4</td>\n",
       "      <td>24</td>\n",
       "      <td>33</td>\n",
       "      <td>16</td>\n",
       "    </tr>\n",
       "    <tr>\n",
       "      <th>7</th>\n",
       "      <td>51-55</td>\n",
       "      <td>44</td>\n",
       "      <td>52</td>\n",
       "      <td>5</td>\n",
       "      <td>20</td>\n",
       "      <td>14</td>\n",
       "      <td>11</td>\n",
       "    </tr>\n",
       "    <tr>\n",
       "      <th>8</th>\n",
       "      <td>56-60</td>\n",
       "      <td>47</td>\n",
       "      <td>55</td>\n",
       "      <td>7</td>\n",
       "      <td>14</td>\n",
       "      <td>20</td>\n",
       "      <td>7</td>\n",
       "    </tr>\n",
       "    <tr>\n",
       "      <th>9</th>\n",
       "      <td>61-67</td>\n",
       "      <td>72</td>\n",
       "      <td>84</td>\n",
       "      <td>5</td>\n",
       "      <td>16</td>\n",
       "      <td>21</td>\n",
       "      <td>12</td>\n",
       "    </tr>\n",
       "  </tbody>\n",
       "</table>\n",
       "</div>"
      ],
      "text/plain": [
       "  age_bucket  Diabetes_Count  BloodPressureProblems_Count  \\\n",
       "0      18-20              16                           13   \n",
       "1      21-25              33                           42   \n",
       "2      26-30              36                           33   \n",
       "3      31-35              30                           47   \n",
       "4      36-40              29                           34   \n",
       "5      41-45              51                           47   \n",
       "6      46-50              56                           55   \n",
       "7      51-55              44                           52   \n",
       "8      56-60              47                           55   \n",
       "9      61-67              72                           84   \n",
       "\n",
       "   AnyTransplants_Count  AnyChronicDiseases_Count  KnownAllergies_Count  \\\n",
       "0                     1                         0                    16   \n",
       "1                    10                         5                    23   \n",
       "2                     4                        24                    19   \n",
       "3                     8                        24                    19   \n",
       "4                     5                        21                    24   \n",
       "5                     6                        30                    23   \n",
       "6                     4                        24                    33   \n",
       "7                     5                        20                    14   \n",
       "8                     7                        14                    20   \n",
       "9                     5                        16                    21   \n",
       "\n",
       "   HistoryOfCancerInFamily_Count  \n",
       "0                              9  \n",
       "1                             12  \n",
       "2                             13  \n",
       "3                             12  \n",
       "4                             10  \n",
       "5                             14  \n",
       "6                             16  \n",
       "7                             11  \n",
       "8                              7  \n",
       "9                             12  "
      ]
     },
     "execution_count": 23,
     "metadata": {},
     "output_type": "execute_result"
    }
   ],
   "source": [
    "age_grouped"
   ]
  },
  {
   "cell_type": "code",
   "execution_count": 24,
   "id": "6ae92e98-ad9b-4968-b703-23504087ca02",
   "metadata": {},
   "outputs": [],
   "source": [
    "age_surgery = data.groupby(by=\"age_bucket\")[\"NumberOfMajorSurgeries\"].max().reset_index(name=\"noOfMajorSurgeries\")\n"
   ]
  },
  {
   "cell_type": "code",
   "execution_count": 25,
   "id": "797c5ba2-6635-4484-9df2-e7c44e2b1caf",
   "metadata": {},
   "outputs": [
    {
     "data": {
      "text/html": [
       "<div>\n",
       "<style scoped>\n",
       "    .dataframe tbody tr th:only-of-type {\n",
       "        vertical-align: middle;\n",
       "    }\n",
       "\n",
       "    .dataframe tbody tr th {\n",
       "        vertical-align: top;\n",
       "    }\n",
       "\n",
       "    .dataframe thead th {\n",
       "        text-align: right;\n",
       "    }\n",
       "</style>\n",
       "<table border=\"1\" class=\"dataframe\">\n",
       "  <thead>\n",
       "    <tr style=\"text-align: right;\">\n",
       "      <th></th>\n",
       "      <th>age_bucket</th>\n",
       "      <th>noOfMajorSurgeries</th>\n",
       "    </tr>\n",
       "  </thead>\n",
       "  <tbody>\n",
       "    <tr>\n",
       "      <th>0</th>\n",
       "      <td>18-20</td>\n",
       "      <td>1</td>\n",
       "    </tr>\n",
       "    <tr>\n",
       "      <th>1</th>\n",
       "      <td>21-25</td>\n",
       "      <td>1</td>\n",
       "    </tr>\n",
       "    <tr>\n",
       "      <th>2</th>\n",
       "      <td>26-30</td>\n",
       "      <td>1</td>\n",
       "    </tr>\n",
       "    <tr>\n",
       "      <th>3</th>\n",
       "      <td>31-35</td>\n",
       "      <td>1</td>\n",
       "    </tr>\n",
       "    <tr>\n",
       "      <th>4</th>\n",
       "      <td>36-40</td>\n",
       "      <td>1</td>\n",
       "    </tr>\n",
       "    <tr>\n",
       "      <th>5</th>\n",
       "      <td>41-45</td>\n",
       "      <td>1</td>\n",
       "    </tr>\n",
       "    <tr>\n",
       "      <th>6</th>\n",
       "      <td>46-50</td>\n",
       "      <td>2</td>\n",
       "    </tr>\n",
       "    <tr>\n",
       "      <th>7</th>\n",
       "      <td>51-55</td>\n",
       "      <td>2</td>\n",
       "    </tr>\n",
       "    <tr>\n",
       "      <th>8</th>\n",
       "      <td>56-60</td>\n",
       "      <td>2</td>\n",
       "    </tr>\n",
       "    <tr>\n",
       "      <th>9</th>\n",
       "      <td>61-67</td>\n",
       "      <td>3</td>\n",
       "    </tr>\n",
       "  </tbody>\n",
       "</table>\n",
       "</div>"
      ],
      "text/plain": [
       "  age_bucket  noOfMajorSurgeries\n",
       "0      18-20                   1\n",
       "1      21-25                   1\n",
       "2      26-30                   1\n",
       "3      31-35                   1\n",
       "4      36-40                   1\n",
       "5      41-45                   1\n",
       "6      46-50                   2\n",
       "7      51-55                   2\n",
       "8      56-60                   2\n",
       "9      61-67                   3"
      ]
     },
     "execution_count": 25,
     "metadata": {},
     "output_type": "execute_result"
    }
   ],
   "source": [
    "age_surgery"
   ]
  },
  {
   "cell_type": "markdown",
   "id": "bda24b5f-83f8-42d6-a5a4-34d22a8cc786",
   "metadata": {},
   "source": [
    "##### Find correlation between Age, Diabetes and Blood pressure"
   ]
  },
  {
   "cell_type": "code",
   "execution_count": 26,
   "id": "c619cbb4-0b0d-4e60-8c39-7bb663f3de6e",
   "metadata": {},
   "outputs": [
    {
     "name": "stdout",
     "output_type": "stream",
     "text": [
      "Correlation between Age and Diabetes: 0.2109, p-value: 0.0000\n",
      "Correlation between Age and BloodPressureProblems: 0.2449, p-value: 0.0000\n"
     ]
    }
   ],
   "source": [
    "diabetes_corr, diabetes_p_value = pointbiserialr(data['Age'], data['Diabetes'])\n",
    "blood_pressure_corr, blood_pressure_p_value = pointbiserialr(data['Age'], data['BloodPressureProblems'])\n",
    "\n",
    "print(f\"Correlation between Age and Diabetes: {diabetes_corr:.4f}, p-value: {diabetes_p_value:.4f}\")\n",
    "print(f\"Correlation between Age and BloodPressureProblems: {blood_pressure_corr:.4f}, p-value: {blood_pressure_p_value:.4f}\")"
   ]
  },
  {
   "cell_type": "code",
   "execution_count": 27,
   "id": "20e4cc81-c240-462e-a4af-886d090fc61f",
   "metadata": {},
   "outputs": [
    {
     "data": {
      "image/png": "[encoded data removed]",
      "text/plain": [
       "<Figure size 600x400 with 1 Axes>"
      ]
     },
     "metadata": {},
     "output_type": "display_data"
    }
   ],
   "source": [
    "plt.figure(figsize=(6, 4))\n",
    "sns.boxplot(x='Diabetes', y='Age', data=data)\n",
    "plt.title(\"Boxplot: Age vs Diabetes\")\n",
    "plt.show()"
   ]
  },
  {
   "cell_type": "code",
   "execution_count": 28,
   "id": "e8b86e4d-9c00-4ef1-936e-94482a4ca1e9",
   "metadata": {},
   "outputs": [
    {
     "data": {
      "image/png": "[encoded data removed]",
      "text/plain": [
       "<Figure size 600x400 with 1 Axes>"
      ]
     },
     "metadata": {},
     "output_type": "display_data"
    }
   ],
   "source": [
    "plt.figure(figsize=(6, 4))\n",
    "sns.boxplot(x='BloodPressureProblems', y='Age', data=data)\n",
    "plt.title(\"Boxplot: Age vs BloodPressureProblems\")\n",
    "plt.show()"
   ]
  },
  {
   "cell_type": "markdown",
   "id": "0d58303a-2273-4eb7-9d4d-828992b37662",
   "metadata": {},
   "source": [
    "* Every age group has diabetes and blood pressure issues. As age increases, cases of diabetes and blood pressure also increasing\n",
    "* Whether the person has had a transplant or not does not depend on the age of the person\n",
    "* Below age 21, doesn't have chronic diseases. Age doesn't influence chronic diseases\n",
    "* Counting the number of major surgeries and family history of cancer does not depend on age\n",
    "  "
   ]
  },
  {
   "cell_type": "markdown",
   "id": "d03780ba-3b69-4906-a5dc-0bf64c0eb7e8",
   "metadata": {},
   "source": [
    "##### Actions to take \n"
   ]
  },
  {
   "cell_type": "markdown",
   "id": "e54b5e06-08bc-4374-97cc-43c2872e85cd",
   "metadata": {},
   "source": [
    "* Find colinearity between age, diabetes, and blood pressure. If these features have any relation, we can create new features to reduce colinearity\n",
    "* Find if there is any relation between any chronic disease and a history of cancer."
   ]
  },
  {
   "cell_type": "code",
   "execution_count": 29,
   "id": "09f0735d-2173-4bf1-89c0-6ace5b8a5d43",
   "metadata": {},
   "outputs": [],
   "source": [
    "age_price_mode = (\n",
    "    data.groupby(by='age_bucket')['PremiumPrice']\n",
    "    .apply(lambda x: x.mode().iloc[0] if not x.mode().empty else None)  # Get the first mode\n",
    "    .reset_index(name='Mode_PremiumPrice')\n",
    ")"
   ]
  },
  {
   "cell_type": "code",
   "execution_count": 30,
   "id": "e1e4593f-43c6-4b96-a8d9-9344f0ba58da",
   "metadata": {},
   "outputs": [
    {
     "data": {
      "text/html": [
       "<div>\n",
       "<style scoped>\n",
       "    .dataframe tbody tr th:only-of-type {\n",
       "        vertical-align: middle;\n",
       "    }\n",
       "\n",
       "    .dataframe tbody tr th {\n",
       "        vertical-align: top;\n",
       "    }\n",
       "\n",
       "    .dataframe thead th {\n",
       "        text-align: right;\n",
       "    }\n",
       "</style>\n",
       "<table border=\"1\" class=\"dataframe\">\n",
       "  <thead>\n",
       "    <tr style=\"text-align: right;\">\n",
       "      <th></th>\n",
       "      <th>age_bucket</th>\n",
       "      <th>Mode_PremiumPrice</th>\n",
       "    </tr>\n",
       "  </thead>\n",
       "  <tbody>\n",
       "    <tr>\n",
       "      <th>0</th>\n",
       "      <td>18-20</td>\n",
       "      <td>15000</td>\n",
       "    </tr>\n",
       "    <tr>\n",
       "      <th>1</th>\n",
       "      <td>21-25</td>\n",
       "      <td>15000</td>\n",
       "    </tr>\n",
       "    <tr>\n",
       "      <th>2</th>\n",
       "      <td>26-30</td>\n",
       "      <td>15000</td>\n",
       "    </tr>\n",
       "    <tr>\n",
       "      <th>3</th>\n",
       "      <td>31-35</td>\n",
       "      <td>23000</td>\n",
       "    </tr>\n",
       "    <tr>\n",
       "      <th>4</th>\n",
       "      <td>36-40</td>\n",
       "      <td>23000</td>\n",
       "    </tr>\n",
       "    <tr>\n",
       "      <th>5</th>\n",
       "      <td>41-45</td>\n",
       "      <td>23000</td>\n",
       "    </tr>\n",
       "    <tr>\n",
       "      <th>6</th>\n",
       "      <td>46-50</td>\n",
       "      <td>25000</td>\n",
       "    </tr>\n",
       "    <tr>\n",
       "      <th>7</th>\n",
       "      <td>51-55</td>\n",
       "      <td>28000</td>\n",
       "    </tr>\n",
       "    <tr>\n",
       "      <th>8</th>\n",
       "      <td>56-60</td>\n",
       "      <td>28000</td>\n",
       "    </tr>\n",
       "    <tr>\n",
       "      <th>9</th>\n",
       "      <td>61-67</td>\n",
       "      <td>28000</td>\n",
       "    </tr>\n",
       "  </tbody>\n",
       "</table>\n",
       "</div>"
      ],
      "text/plain": [
       "  age_bucket  Mode_PremiumPrice\n",
       "0      18-20              15000\n",
       "1      21-25              15000\n",
       "2      26-30              15000\n",
       "3      31-35              23000\n",
       "4      36-40              23000\n",
       "5      41-45              23000\n",
       "6      46-50              25000\n",
       "7      51-55              28000\n",
       "8      56-60              28000\n",
       "9      61-67              28000"
      ]
     },
     "execution_count": 30,
     "metadata": {},
     "output_type": "execute_result"
    }
   ],
   "source": [
    "age_price_mode"
   ]
  },
  {
   "cell_type": "markdown",
   "id": "9a4fcd68-45ed-463a-809f-10f2570c4b3c",
   "metadata": {},
   "source": [
    "* As age increases, premium prices also increase\n",
    "* But the most frequent premium prices are 23,000 and 15,000."
   ]
  },
  {
   "cell_type": "markdown",
   "id": "c834f379-6ed0-42a0-a555-d2fe9ccc3fd1",
   "metadata": {},
   "source": [
    "##### Action to take\n",
    "**make a group of premium prices like, below 20000, then between 21000 and 30000, and above 30000. Then, check the behavior of each age group in this range**"
   ]
  },
  {
   "cell_type": "code",
   "execution_count": 31,
   "id": "b3a7d080-d3b8-45e8-b367-1c6f338b5e38",
   "metadata": {},
   "outputs": [
    {
     "data": {
      "text/plain": [
       "15000"
      ]
     },
     "execution_count": 31,
     "metadata": {},
     "output_type": "execute_result"
    }
   ],
   "source": [
    "data['PremiumPrice'].min()"
   ]
  },
  {
   "cell_type": "code",
   "execution_count": 32,
   "id": "a9030063-01eb-4afe-9609-b0ea83a07018",
   "metadata": {},
   "outputs": [
    {
     "data": {
      "text/plain": [
       "40000"
      ]
     },
     "execution_count": 32,
     "metadata": {},
     "output_type": "execute_result"
    }
   ],
   "source": [
    "data['PremiumPrice'].max()"
   ]
  },
  {
   "cell_type": "code",
   "execution_count": 33,
   "id": "24ac3038-4c6a-4e08-951c-da9896c10a0d",
   "metadata": {},
   "outputs": [],
   "source": [
    "bins = [0, 20000, 30000, 41000] \n",
    "labels = ['Below 20000', '21000-30000', 'Above 30000']\n",
    "data['price_range'] = pd.cut(data['PremiumPrice'], bins=bins, labels=labels, right=False)"
   ]
  },
  {
   "cell_type": "code",
   "execution_count": 34,
   "id": "760af1d1-2c59-4fdd-bc2f-87e5c72f7c56",
   "metadata": {},
   "outputs": [],
   "source": [
    "age_price_grouped = (\n",
    "    data.groupby(['age_bucket', 'price_range']).size().reset_index(name='Count')\n",
    ")"
   ]
  },
  {
   "cell_type": "code",
   "execution_count": 35,
   "id": "3577922d-a365-4224-aeee-59762b2f8ccb",
   "metadata": {},
   "outputs": [
    {
     "data": {
      "text/html": [
       "<div>\n",
       "<style scoped>\n",
       "    .dataframe tbody tr th:only-of-type {\n",
       "        vertical-align: middle;\n",
       "    }\n",
       "\n",
       "    .dataframe tbody tr th {\n",
       "        vertical-align: top;\n",
       "    }\n",
       "\n",
       "    .dataframe thead th {\n",
       "        text-align: right;\n",
       "    }\n",
       "</style>\n",
       "<table border=\"1\" class=\"dataframe\">\n",
       "  <thead>\n",
       "    <tr style=\"text-align: right;\">\n",
       "      <th></th>\n",
       "      <th>age_bucket</th>\n",
       "      <th>price_range</th>\n",
       "      <th>Count</th>\n",
       "    </tr>\n",
       "  </thead>\n",
       "  <tbody>\n",
       "    <tr>\n",
       "      <th>0</th>\n",
       "      <td>18-20</td>\n",
       "      <td>Below 20000</td>\n",
       "      <td>58</td>\n",
       "    </tr>\n",
       "    <tr>\n",
       "      <th>1</th>\n",
       "      <td>18-20</td>\n",
       "      <td>21000-30000</td>\n",
       "      <td>2</td>\n",
       "    </tr>\n",
       "    <tr>\n",
       "      <th>2</th>\n",
       "      <td>18-20</td>\n",
       "      <td>Above 30000</td>\n",
       "      <td>1</td>\n",
       "    </tr>\n",
       "    <tr>\n",
       "      <th>3</th>\n",
       "      <td>21-25</td>\n",
       "      <td>Below 20000</td>\n",
       "      <td>91</td>\n",
       "    </tr>\n",
       "    <tr>\n",
       "      <th>4</th>\n",
       "      <td>21-25</td>\n",
       "      <td>21000-30000</td>\n",
       "      <td>3</td>\n",
       "    </tr>\n",
       "    <tr>\n",
       "      <th>5</th>\n",
       "      <td>21-25</td>\n",
       "      <td>Above 30000</td>\n",
       "      <td>5</td>\n",
       "    </tr>\n",
       "    <tr>\n",
       "      <th>6</th>\n",
       "      <td>26-30</td>\n",
       "      <td>Below 20000</td>\n",
       "      <td>71</td>\n",
       "    </tr>\n",
       "    <tr>\n",
       "      <th>7</th>\n",
       "      <td>26-30</td>\n",
       "      <td>21000-30000</td>\n",
       "      <td>26</td>\n",
       "    </tr>\n",
       "    <tr>\n",
       "      <th>8</th>\n",
       "      <td>26-30</td>\n",
       "      <td>Above 30000</td>\n",
       "      <td>4</td>\n",
       "    </tr>\n",
       "    <tr>\n",
       "      <th>9</th>\n",
       "      <td>31-35</td>\n",
       "      <td>Below 20000</td>\n",
       "      <td>0</td>\n",
       "    </tr>\n",
       "    <tr>\n",
       "      <th>10</th>\n",
       "      <td>31-35</td>\n",
       "      <td>21000-30000</td>\n",
       "      <td>98</td>\n",
       "    </tr>\n",
       "    <tr>\n",
       "      <th>11</th>\n",
       "      <td>31-35</td>\n",
       "      <td>Above 30000</td>\n",
       "      <td>11</td>\n",
       "    </tr>\n",
       "    <tr>\n",
       "      <th>12</th>\n",
       "      <td>36-40</td>\n",
       "      <td>Below 20000</td>\n",
       "      <td>1</td>\n",
       "    </tr>\n",
       "    <tr>\n",
       "      <th>13</th>\n",
       "      <td>36-40</td>\n",
       "      <td>21000-30000</td>\n",
       "      <td>65</td>\n",
       "    </tr>\n",
       "    <tr>\n",
       "      <th>14</th>\n",
       "      <td>36-40</td>\n",
       "      <td>Above 30000</td>\n",
       "      <td>18</td>\n",
       "    </tr>\n",
       "    <tr>\n",
       "      <th>15</th>\n",
       "      <td>41-45</td>\n",
       "      <td>Below 20000</td>\n",
       "      <td>1</td>\n",
       "    </tr>\n",
       "    <tr>\n",
       "      <th>16</th>\n",
       "      <td>41-45</td>\n",
       "      <td>21000-30000</td>\n",
       "      <td>84</td>\n",
       "    </tr>\n",
       "    <tr>\n",
       "      <th>17</th>\n",
       "      <td>41-45</td>\n",
       "      <td>Above 30000</td>\n",
       "      <td>39</td>\n",
       "    </tr>\n",
       "    <tr>\n",
       "      <th>18</th>\n",
       "      <td>46-50</td>\n",
       "      <td>Below 20000</td>\n",
       "      <td>0</td>\n",
       "    </tr>\n",
       "    <tr>\n",
       "      <th>19</th>\n",
       "      <td>46-50</td>\n",
       "      <td>21000-30000</td>\n",
       "      <td>79</td>\n",
       "    </tr>\n",
       "    <tr>\n",
       "      <th>20</th>\n",
       "      <td>46-50</td>\n",
       "      <td>Above 30000</td>\n",
       "      <td>33</td>\n",
       "    </tr>\n",
       "    <tr>\n",
       "      <th>21</th>\n",
       "      <td>51-55</td>\n",
       "      <td>Below 20000</td>\n",
       "      <td>0</td>\n",
       "    </tr>\n",
       "    <tr>\n",
       "      <th>22</th>\n",
       "      <td>51-55</td>\n",
       "      <td>21000-30000</td>\n",
       "      <td>76</td>\n",
       "    </tr>\n",
       "    <tr>\n",
       "      <th>23</th>\n",
       "      <td>51-55</td>\n",
       "      <td>Above 30000</td>\n",
       "      <td>17</td>\n",
       "    </tr>\n",
       "    <tr>\n",
       "      <th>24</th>\n",
       "      <td>56-60</td>\n",
       "      <td>Below 20000</td>\n",
       "      <td>1</td>\n",
       "    </tr>\n",
       "    <tr>\n",
       "      <th>25</th>\n",
       "      <td>56-60</td>\n",
       "      <td>21000-30000</td>\n",
       "      <td>70</td>\n",
       "    </tr>\n",
       "    <tr>\n",
       "      <th>26</th>\n",
       "      <td>56-60</td>\n",
       "      <td>Above 30000</td>\n",
       "      <td>14</td>\n",
       "    </tr>\n",
       "    <tr>\n",
       "      <th>27</th>\n",
       "      <td>61-67</td>\n",
       "      <td>Below 20000</td>\n",
       "      <td>0</td>\n",
       "    </tr>\n",
       "    <tr>\n",
       "      <th>28</th>\n",
       "      <td>61-67</td>\n",
       "      <td>21000-30000</td>\n",
       "      <td>93</td>\n",
       "    </tr>\n",
       "    <tr>\n",
       "      <th>29</th>\n",
       "      <td>61-67</td>\n",
       "      <td>Above 30000</td>\n",
       "      <td>25</td>\n",
       "    </tr>\n",
       "  </tbody>\n",
       "</table>\n",
       "</div>"
      ],
      "text/plain": [
       "   age_bucket  price_range  Count\n",
       "0       18-20  Below 20000     58\n",
       "1       18-20  21000-30000      2\n",
       "2       18-20  Above 30000      1\n",
       "3       21-25  Below 20000     91\n",
       "4       21-25  21000-30000      3\n",
       "5       21-25  Above 30000      5\n",
       "6       26-30  Below 20000     71\n",
       "7       26-30  21000-30000     26\n",
       "8       26-30  Above 30000      4\n",
       "9       31-35  Below 20000      0\n",
       "10      31-35  21000-30000     98\n",
       "11      31-35  Above 30000     11\n",
       "12      36-40  Below 20000      1\n",
       "13      36-40  21000-30000     65\n",
       "14      36-40  Above 30000     18\n",
       "15      41-45  Below 20000      1\n",
       "16      41-45  21000-30000     84\n",
       "17      41-45  Above 30000     39\n",
       "18      46-50  Below 20000      0\n",
       "19      46-50  21000-30000     79\n",
       "20      46-50  Above 30000     33\n",
       "21      51-55  Below 20000      0\n",
       "22      51-55  21000-30000     76\n",
       "23      51-55  Above 30000     17\n",
       "24      56-60  Below 20000      1\n",
       "25      56-60  21000-30000     70\n",
       "26      56-60  Above 30000     14\n",
       "27      61-67  Below 20000      0\n",
       "28      61-67  21000-30000     93\n",
       "29      61-67  Above 30000     25"
      ]
     },
     "execution_count": 35,
     "metadata": {},
     "output_type": "execute_result"
    }
   ],
   "source": [
    "age_price_grouped "
   ]
  },
  {
   "cell_type": "code",
   "execution_count": 36,
   "id": "4b1f2dc4-8856-4933-ad82-a74fa2c4772d",
   "metadata": {},
   "outputs": [
    {
     "data": {
      "image/png": "[encoded data removed]",
      "text/plain": [
       "<Figure size 800x500 with 1 Axes>"
      ]
     },
     "metadata": {},
     "output_type": "display_data"
    }
   ],
   "source": [
    "plt.figure(figsize=(8, 5))\n",
    "sns.barplot(x='age_bucket', y='Mode_PremiumPrice', data=age_price_mode, palette='Blues_d')\n",
    "plt.title('Most Frequent Premium Price (Mode) by Age Bucket', fontsize=14)\n",
    "plt.xlabel('Age Bucket', fontsize=12)\n",
    "plt.ylabel('Mode Premium Price', fontsize=12)\n",
    "plt.xticks(rotation=45)\n",
    "plt.grid(axis='y', linestyle='--', alpha=0.7)\n",
    "plt.tight_layout()\n",
    "plt.show()"
   ]
  },
  {
   "cell_type": "code",
   "execution_count": 37,
   "id": "d1db361b-8321-46d1-a1a2-8f0634b94680",
   "metadata": {},
   "outputs": [
    {
     "data": {
      "text/plain": [
       "Index(['Age', 'Diabetes', 'BloodPressureProblems', 'AnyTransplants',\n",
       "       'AnyChronicDiseases', 'Height', 'Weight', 'KnownAllergies',\n",
       "       'HistoryOfCancerInFamily', 'NumberOfMajorSurgeries', 'PremiumPrice',\n",
       "       'age_bucket', 'price_range'],\n",
       "      dtype='object')"
      ]
     },
     "execution_count": 37,
     "metadata": {},
     "output_type": "execute_result"
    }
   ],
   "source": [
    "data.columns"
   ]
  },
  {
   "cell_type": "markdown",
   "id": "6c69d983-831d-45e5-a7f0-770d50c05d80",
   "metadata": {},
   "source": [
    "* Age between 18 and 30 prefer a premium of rupees 15000. After that, as age increases, the premium price increases."
   ]
  },
  {
   "cell_type": "code",
   "execution_count": 38,
   "id": "97425eeb-9395-41f2-8d70-9f595cffdf51",
   "metadata": {},
   "outputs": [
    {
     "data": {
      "image/png": "[encoded data removed]",
      "text/plain": [
       "<Figure size 1000x800 with 2 Axes>"
      ]
     },
     "metadata": {},
     "output_type": "display_data"
    }
   ],
   "source": [
    "filtered_data = data.drop(columns = ['age_bucket', 'price_range'])\n",
    "correlation_matrix = filtered_data.corr() \n",
    "plt.figure(figsize=(10, 8))\n",
    "sns.heatmap(correlation_matrix, annot=True, fmt='.2f', cmap='coolwarm', cbar=True, square=True)\n",
    "plt.title('Correlation Matrix', fontsize=14)\n",
    "plt.xticks(rotation=45, ha='right')\n",
    "plt.yticks(rotation=0)\n",
    "plt.tight_layout()\n",
    "plt.show()"
   ]
  },
  {
   "cell_type": "markdown",
   "id": "666af494-2f4c-497a-ab82-1da1cc2831e2",
   "metadata": {},
   "source": [
    "#### Outlier Detection"
   ]
  },
  {
   "cell_type": "markdown",
   "id": "f29a164f-5939-49a7-82bd-34d8a4ab3ed0",
   "metadata": {},
   "source": [
    "* **Binary Features** - ['Diabetes', 'BloodPressureProblems', 'AnyTransplants','AnyChronicDiseases',  'KnownAllergies','HistoryOfCancerInFamily'] : These have only two values (e.g., 0 and 1), so outlier detection isn't applicable.\n",
    "* **Ordinal Features** - 'NumberOfMajorSurgeries' -->outlier detection isn't applicable.\n",
    "* **Discrete and Continuous Features** - ['Age','Height', 'Weight','PremiumPrice'] -> Use traditional outlier detection methods like the IQR method or Z-scores"
   ]
  },
  {
   "cell_type": "code",
   "execution_count": 39,
   "id": "d9696f39-14a5-4ce7-93af-352b127488cb",
   "metadata": {},
   "outputs": [],
   "source": [
    "def detect_outliers_iqr(column):\n",
    "    Q1 = column.quantile(0.25)\n",
    "    Q3 = column.quantile(0.75)\n",
    "    IQR = Q3 - Q1\n",
    "    lower_bound = Q1 - 1.5 * IQR\n",
    "    upper_bound = Q3 + 1.5 * IQR\n",
    "    outliers = column[(column < lower_bound) | (column > upper_bound)]\n",
    "    return outliers"
   ]
  },
  {
   "cell_type": "code",
   "execution_count": 40,
   "id": "a6a37085-8335-481a-b5e9-5e5cc0669cd7",
   "metadata": {},
   "outputs": [],
   "source": [
    "def detect_outliers_zscore(column, threshold=3):\n",
    "    mean = column.mean()\n",
    "    std = column.std()\n",
    "    z_scores = (column - mean) / std\n",
    "    outliers = column[np.abs(z_scores) > threshold]\n",
    "    return outliers"
   ]
  },
  {
   "cell_type": "code",
   "execution_count": 41,
   "id": "790c329c-8494-4b8f-9dce-705dc34bc081",
   "metadata": {},
   "outputs": [],
   "source": [
    "outliers_summary = {}\n",
    "for col in ['Age','PremiumPrice']:\n",
    "    outliers_iqr = detect_outliers_iqr(data[col])\n",
    "    outliers_summary[col] = {\n",
    "        'IQR Outlier Count': len(outliers_iqr),\n",
    "        'IQR Outliers': outliers_iqr.tolist()\n",
    "    }"
   ]
  },
  {
   "cell_type": "code",
   "execution_count": 42,
   "id": "09d2a6af-df88-46a3-9269-af3ed9a4f3cc",
   "metadata": {},
   "outputs": [
    {
     "data": {
      "text/plain": [
       "{'Age': {'IQR Outlier Count': 0, 'IQR Outliers': []},\n",
       " 'PremiumPrice': {'IQR Outlier Count': 6,\n",
       "  'IQR Outliers': [39000, 40000, 39000, 39000, 39000, 39000]}}"
      ]
     },
     "execution_count": 42,
     "metadata": {},
     "output_type": "execute_result"
    }
   ],
   "source": [
    "outliers_summary"
   ]
  },
  {
   "cell_type": "code",
   "execution_count": 43,
   "id": "1cf7dec1-1b83-4f42-8337-05bc998c11da",
   "metadata": {},
   "outputs": [],
   "source": [
    "filtered_data = data[data['PremiumPrice'].apply(lambda x: x == 39000 or x == 40000)]\n",
    "\n"
   ]
  },
  {
   "cell_type": "code",
   "execution_count": 44,
   "id": "c13ff890-7124-4e2b-95e9-f13ed724ef46",
   "metadata": {},
   "outputs": [
    {
     "data": {
      "text/html": [
       "<div>\n",
       "<style scoped>\n",
       "    .dataframe tbody tr th:only-of-type {\n",
       "        vertical-align: middle;\n",
       "    }\n",
       "\n",
       "    .dataframe tbody tr th {\n",
       "        vertical-align: top;\n",
       "    }\n",
       "\n",
       "    .dataframe thead th {\n",
       "        text-align: right;\n",
       "    }\n",
       "</style>\n",
       "<table border=\"1\" class=\"dataframe\">\n",
       "  <thead>\n",
       "    <tr style=\"text-align: right;\">\n",
       "      <th></th>\n",
       "      <th>Age</th>\n",
       "      <th>Diabetes</th>\n",
       "      <th>BloodPressureProblems</th>\n",
       "      <th>AnyTransplants</th>\n",
       "      <th>AnyChronicDiseases</th>\n",
       "      <th>Height</th>\n",
       "      <th>Weight</th>\n",
       "      <th>KnownAllergies</th>\n",
       "      <th>HistoryOfCancerInFamily</th>\n",
       "      <th>NumberOfMajorSurgeries</th>\n",
       "      <th>PremiumPrice</th>\n",
       "      <th>age_bucket</th>\n",
       "      <th>price_range</th>\n",
       "    </tr>\n",
       "  </thead>\n",
       "  <tbody>\n",
       "    <tr>\n",
       "      <th>204</th>\n",
       "      <td>27</td>\n",
       "      <td>0</td>\n",
       "      <td>1</td>\n",
       "      <td>0</td>\n",
       "      <td>0</td>\n",
       "      <td>159</td>\n",
       "      <td>120</td>\n",
       "      <td>1</td>\n",
       "      <td>1</td>\n",
       "      <td>1</td>\n",
       "      <td>39000</td>\n",
       "      <td>26-30</td>\n",
       "      <td>Above 30000</td>\n",
       "    </tr>\n",
       "    <tr>\n",
       "      <th>295</th>\n",
       "      <td>64</td>\n",
       "      <td>1</td>\n",
       "      <td>1</td>\n",
       "      <td>0</td>\n",
       "      <td>1</td>\n",
       "      <td>163</td>\n",
       "      <td>91</td>\n",
       "      <td>0</td>\n",
       "      <td>0</td>\n",
       "      <td>2</td>\n",
       "      <td>40000</td>\n",
       "      <td>61-67</td>\n",
       "      <td>Above 30000</td>\n",
       "    </tr>\n",
       "    <tr>\n",
       "      <th>926</th>\n",
       "      <td>24</td>\n",
       "      <td>0</td>\n",
       "      <td>1</td>\n",
       "      <td>0</td>\n",
       "      <td>0</td>\n",
       "      <td>159</td>\n",
       "      <td>67</td>\n",
       "      <td>0</td>\n",
       "      <td>0</td>\n",
       "      <td>0</td>\n",
       "      <td>39000</td>\n",
       "      <td>21-25</td>\n",
       "      <td>Above 30000</td>\n",
       "    </tr>\n",
       "    <tr>\n",
       "      <th>928</th>\n",
       "      <td>19</td>\n",
       "      <td>0</td>\n",
       "      <td>0</td>\n",
       "      <td>0</td>\n",
       "      <td>0</td>\n",
       "      <td>171</td>\n",
       "      <td>67</td>\n",
       "      <td>0</td>\n",
       "      <td>0</td>\n",
       "      <td>1</td>\n",
       "      <td>39000</td>\n",
       "      <td>18-20</td>\n",
       "      <td>Above 30000</td>\n",
       "    </tr>\n",
       "    <tr>\n",
       "      <th>976</th>\n",
       "      <td>21</td>\n",
       "      <td>0</td>\n",
       "      <td>1</td>\n",
       "      <td>0</td>\n",
       "      <td>0</td>\n",
       "      <td>155</td>\n",
       "      <td>74</td>\n",
       "      <td>0</td>\n",
       "      <td>0</td>\n",
       "      <td>0</td>\n",
       "      <td>39000</td>\n",
       "      <td>21-25</td>\n",
       "      <td>Above 30000</td>\n",
       "    </tr>\n",
       "    <tr>\n",
       "      <th>984</th>\n",
       "      <td>47</td>\n",
       "      <td>1</td>\n",
       "      <td>1</td>\n",
       "      <td>0</td>\n",
       "      <td>0</td>\n",
       "      <td>158</td>\n",
       "      <td>73</td>\n",
       "      <td>1</td>\n",
       "      <td>0</td>\n",
       "      <td>1</td>\n",
       "      <td>39000</td>\n",
       "      <td>46-50</td>\n",
       "      <td>Above 30000</td>\n",
       "    </tr>\n",
       "  </tbody>\n",
       "</table>\n",
       "</div>"
      ],
      "text/plain": [
       "     Age  Diabetes  BloodPressureProblems  AnyTransplants  AnyChronicDiseases  \\\n",
       "204   27         0                      1               0                   0   \n",
       "295   64         1                      1               0                   1   \n",
       "926   24         0                      1               0                   0   \n",
       "928   19         0                      0               0                   0   \n",
       "976   21         0                      1               0                   0   \n",
       "984   47         1                      1               0                   0   \n",
       "\n",
       "     Height  Weight  KnownAllergies  HistoryOfCancerInFamily  \\\n",
       "204     159     120               1                        1   \n",
       "295     163      91               0                        0   \n",
       "926     159      67               0                        0   \n",
       "928     171      67               0                        0   \n",
       "976     155      74               0                        0   \n",
       "984     158      73               1                        0   \n",
       "\n",
       "     NumberOfMajorSurgeries  PremiumPrice age_bucket  price_range  \n",
       "204                       1         39000      26-30  Above 30000  \n",
       "295                       2         40000      61-67  Above 30000  \n",
       "926                       0         39000      21-25  Above 30000  \n",
       "928                       1         39000      18-20  Above 30000  \n",
       "976                       0         39000      21-25  Above 30000  \n",
       "984                       1         39000      46-50  Above 30000  "
      ]
     },
     "execution_count": 44,
     "metadata": {},
     "output_type": "execute_result"
    }
   ],
   "source": [
    "filtered_data"
   ]
  },
  {
   "cell_type": "code",
   "execution_count": 45,
   "id": "70028b8a-2d8e-40bd-a4db-2846af7ec844",
   "metadata": {},
   "outputs": [],
   "source": [
    "iqr_zscore_outlier = {}\n",
    "for col in ['Height', 'Weight']:\n",
    "    outliers_iqr = detect_outliers_iqr(data[col])\n",
    "    outliers_zscore = detect_outliers_zscore(data[col])\n",
    "    \n",
    "    iqr_zscore_outlier[col] = {\n",
    "        'IQR Outlier Count': len(outliers_iqr), \n",
    "        'IQR Outliers': outliers_iqr.tolist(), \n",
    "        'Z-score Outlier Count': len(outliers_zscore),\n",
    "        'Z-score Outliers': outliers_zscore.tolist() \n",
    "       \n",
    "        \n",
    "    }\n"
   ]
  },
  {
   "cell_type": "code",
   "execution_count": 46,
   "id": "798b9430-f98e-4fe3-873d-569f6f44b60b",
   "metadata": {},
   "outputs": [
    {
     "data": {
      "text/plain": [
       "{'Height': {'IQR Outlier Count': 0,\n",
       "  'IQR Outliers': [],\n",
       "  'Z-score Outlier Count': 0,\n",
       "  'Z-score Outliers': []},\n",
       " 'Weight': {'IQR Outlier Count': 16,\n",
       "  'IQR Outliers': [118,\n",
       "   121,\n",
       "   119,\n",
       "   129,\n",
       "   127,\n",
       "   132,\n",
       "   120,\n",
       "   128,\n",
       "   120,\n",
       "   123,\n",
       "   126,\n",
       "   121,\n",
       "   118,\n",
       "   128,\n",
       "   124,\n",
       "   122],\n",
       "  'Z-score Outlier Count': 13,\n",
       "  'Z-score Outliers': [121,\n",
       "   129,\n",
       "   127,\n",
       "   132,\n",
       "   120,\n",
       "   128,\n",
       "   120,\n",
       "   123,\n",
       "   126,\n",
       "   121,\n",
       "   128,\n",
       "   124,\n",
       "   122]}}"
      ]
     },
     "execution_count": 46,
     "metadata": {},
     "output_type": "execute_result"
    }
   ],
   "source": [
    "iqr_zscore_outlier"
   ]
  },
  {
   "cell_type": "code",
   "execution_count": 47,
   "id": "95d01d63-bb06-49d8-b9ad-f8e06431944d",
   "metadata": {},
   "outputs": [],
   "source": [
    "find_outlier = data[data['Weight'].apply(lambda x : x in [118,121,119,129,127,132,120,128,120,123,126,121,118,128,124,122] )]"
   ]
  },
  {
   "cell_type": "code",
   "execution_count": 48,
   "id": "19e10341-0f0a-4fac-9d43-0d68ed504d3a",
   "metadata": {},
   "outputs": [
    {
     "data": {
      "text/html": [
       "<div>\n",
       "<style scoped>\n",
       "    .dataframe tbody tr th:only-of-type {\n",
       "        vertical-align: middle;\n",
       "    }\n",
       "\n",
       "    .dataframe tbody tr th {\n",
       "        vertical-align: top;\n",
       "    }\n",
       "\n",
       "    .dataframe thead th {\n",
       "        text-align: right;\n",
       "    }\n",
       "</style>\n",
       "<table border=\"1\" class=\"dataframe\">\n",
       "  <thead>\n",
       "    <tr style=\"text-align: right;\">\n",
       "      <th></th>\n",
       "      <th>Age</th>\n",
       "      <th>Diabetes</th>\n",
       "      <th>BloodPressureProblems</th>\n",
       "      <th>AnyTransplants</th>\n",
       "      <th>AnyChronicDiseases</th>\n",
       "      <th>Height</th>\n",
       "      <th>Weight</th>\n",
       "      <th>KnownAllergies</th>\n",
       "      <th>HistoryOfCancerInFamily</th>\n",
       "      <th>NumberOfMajorSurgeries</th>\n",
       "      <th>PremiumPrice</th>\n",
       "      <th>age_bucket</th>\n",
       "      <th>price_range</th>\n",
       "    </tr>\n",
       "  </thead>\n",
       "  <tbody>\n",
       "    <tr>\n",
       "      <th>154</th>\n",
       "      <td>21</td>\n",
       "      <td>0</td>\n",
       "      <td>0</td>\n",
       "      <td>0</td>\n",
       "      <td>0</td>\n",
       "      <td>157</td>\n",
       "      <td>118</td>\n",
       "      <td>1</td>\n",
       "      <td>0</td>\n",
       "      <td>1</td>\n",
       "      <td>15000</td>\n",
       "      <td>21-25</td>\n",
       "      <td>Below 20000</td>\n",
       "    </tr>\n",
       "    <tr>\n",
       "      <th>158</th>\n",
       "      <td>43</td>\n",
       "      <td>0</td>\n",
       "      <td>0</td>\n",
       "      <td>0</td>\n",
       "      <td>0</td>\n",
       "      <td>158</td>\n",
       "      <td>121</td>\n",
       "      <td>0</td>\n",
       "      <td>0</td>\n",
       "      <td>0</td>\n",
       "      <td>23000</td>\n",
       "      <td>41-45</td>\n",
       "      <td>21000-30000</td>\n",
       "    </tr>\n",
       "    <tr>\n",
       "      <th>183</th>\n",
       "      <td>36</td>\n",
       "      <td>0</td>\n",
       "      <td>0</td>\n",
       "      <td>0</td>\n",
       "      <td>0</td>\n",
       "      <td>156</td>\n",
       "      <td>119</td>\n",
       "      <td>0</td>\n",
       "      <td>0</td>\n",
       "      <td>0</td>\n",
       "      <td>23000</td>\n",
       "      <td>36-40</td>\n",
       "      <td>21000-30000</td>\n",
       "    </tr>\n",
       "    <tr>\n",
       "      <th>186</th>\n",
       "      <td>19</td>\n",
       "      <td>0</td>\n",
       "      <td>0</td>\n",
       "      <td>0</td>\n",
       "      <td>0</td>\n",
       "      <td>173</td>\n",
       "      <td>129</td>\n",
       "      <td>1</td>\n",
       "      <td>0</td>\n",
       "      <td>0</td>\n",
       "      <td>15000</td>\n",
       "      <td>18-20</td>\n",
       "      <td>Below 20000</td>\n",
       "    </tr>\n",
       "    <tr>\n",
       "      <th>192</th>\n",
       "      <td>50</td>\n",
       "      <td>1</td>\n",
       "      <td>0</td>\n",
       "      <td>0</td>\n",
       "      <td>0</td>\n",
       "      <td>163</td>\n",
       "      <td>127</td>\n",
       "      <td>0</td>\n",
       "      <td>0</td>\n",
       "      <td>2</td>\n",
       "      <td>28000</td>\n",
       "      <td>46-50</td>\n",
       "      <td>21000-30000</td>\n",
       "    </tr>\n",
       "    <tr>\n",
       "      <th>195</th>\n",
       "      <td>19</td>\n",
       "      <td>0</td>\n",
       "      <td>0</td>\n",
       "      <td>0</td>\n",
       "      <td>0</td>\n",
       "      <td>164</td>\n",
       "      <td>132</td>\n",
       "      <td>0</td>\n",
       "      <td>0</td>\n",
       "      <td>0</td>\n",
       "      <td>15000</td>\n",
       "      <td>18-20</td>\n",
       "      <td>Below 20000</td>\n",
       "    </tr>\n",
       "    <tr>\n",
       "      <th>196</th>\n",
       "      <td>39</td>\n",
       "      <td>0</td>\n",
       "      <td>1</td>\n",
       "      <td>0</td>\n",
       "      <td>0</td>\n",
       "      <td>174</td>\n",
       "      <td>120</td>\n",
       "      <td>0</td>\n",
       "      <td>0</td>\n",
       "      <td>0</td>\n",
       "      <td>23000</td>\n",
       "      <td>36-40</td>\n",
       "      <td>21000-30000</td>\n",
       "    </tr>\n",
       "    <tr>\n",
       "      <th>203</th>\n",
       "      <td>24</td>\n",
       "      <td>0</td>\n",
       "      <td>1</td>\n",
       "      <td>0</td>\n",
       "      <td>0</td>\n",
       "      <td>173</td>\n",
       "      <td>128</td>\n",
       "      <td>0</td>\n",
       "      <td>0</td>\n",
       "      <td>1</td>\n",
       "      <td>26000</td>\n",
       "      <td>21-25</td>\n",
       "      <td>21000-30000</td>\n",
       "    </tr>\n",
       "    <tr>\n",
       "      <th>204</th>\n",
       "      <td>27</td>\n",
       "      <td>0</td>\n",
       "      <td>1</td>\n",
       "      <td>0</td>\n",
       "      <td>0</td>\n",
       "      <td>159</td>\n",
       "      <td>120</td>\n",
       "      <td>1</td>\n",
       "      <td>1</td>\n",
       "      <td>1</td>\n",
       "      <td>39000</td>\n",
       "      <td>26-30</td>\n",
       "      <td>Above 30000</td>\n",
       "    </tr>\n",
       "    <tr>\n",
       "      <th>207</th>\n",
       "      <td>18</td>\n",
       "      <td>0</td>\n",
       "      <td>0</td>\n",
       "      <td>0</td>\n",
       "      <td>0</td>\n",
       "      <td>172</td>\n",
       "      <td>123</td>\n",
       "      <td>0</td>\n",
       "      <td>1</td>\n",
       "      <td>1</td>\n",
       "      <td>15000</td>\n",
       "      <td>18-20</td>\n",
       "      <td>Below 20000</td>\n",
       "    </tr>\n",
       "    <tr>\n",
       "      <th>217</th>\n",
       "      <td>65</td>\n",
       "      <td>0</td>\n",
       "      <td>1</td>\n",
       "      <td>0</td>\n",
       "      <td>0</td>\n",
       "      <td>177</td>\n",
       "      <td>126</td>\n",
       "      <td>0</td>\n",
       "      <td>0</td>\n",
       "      <td>2</td>\n",
       "      <td>24000</td>\n",
       "      <td>61-67</td>\n",
       "      <td>21000-30000</td>\n",
       "    </tr>\n",
       "    <tr>\n",
       "      <th>218</th>\n",
       "      <td>62</td>\n",
       "      <td>0</td>\n",
       "      <td>1</td>\n",
       "      <td>1</td>\n",
       "      <td>0</td>\n",
       "      <td>164</td>\n",
       "      <td>121</td>\n",
       "      <td>1</td>\n",
       "      <td>0</td>\n",
       "      <td>1</td>\n",
       "      <td>38000</td>\n",
       "      <td>61-67</td>\n",
       "      <td>Above 30000</td>\n",
       "    </tr>\n",
       "    <tr>\n",
       "      <th>221</th>\n",
       "      <td>61</td>\n",
       "      <td>0</td>\n",
       "      <td>1</td>\n",
       "      <td>0</td>\n",
       "      <td>1</td>\n",
       "      <td>174</td>\n",
       "      <td>118</td>\n",
       "      <td>0</td>\n",
       "      <td>0</td>\n",
       "      <td>1</td>\n",
       "      <td>35000</td>\n",
       "      <td>61-67</td>\n",
       "      <td>Above 30000</td>\n",
       "    </tr>\n",
       "    <tr>\n",
       "      <th>225</th>\n",
       "      <td>57</td>\n",
       "      <td>1</td>\n",
       "      <td>0</td>\n",
       "      <td>0</td>\n",
       "      <td>0</td>\n",
       "      <td>160</td>\n",
       "      <td>128</td>\n",
       "      <td>0</td>\n",
       "      <td>0</td>\n",
       "      <td>0</td>\n",
       "      <td>35000</td>\n",
       "      <td>56-60</td>\n",
       "      <td>Above 30000</td>\n",
       "    </tr>\n",
       "    <tr>\n",
       "      <th>227</th>\n",
       "      <td>44</td>\n",
       "      <td>0</td>\n",
       "      <td>0</td>\n",
       "      <td>0</td>\n",
       "      <td>0</td>\n",
       "      <td>182</td>\n",
       "      <td>124</td>\n",
       "      <td>0</td>\n",
       "      <td>1</td>\n",
       "      <td>1</td>\n",
       "      <td>31000</td>\n",
       "      <td>41-45</td>\n",
       "      <td>Above 30000</td>\n",
       "    </tr>\n",
       "    <tr>\n",
       "      <th>228</th>\n",
       "      <td>22</td>\n",
       "      <td>1</td>\n",
       "      <td>1</td>\n",
       "      <td>0</td>\n",
       "      <td>0</td>\n",
       "      <td>166</td>\n",
       "      <td>122</td>\n",
       "      <td>0</td>\n",
       "      <td>0</td>\n",
       "      <td>0</td>\n",
       "      <td>15000</td>\n",
       "      <td>21-25</td>\n",
       "      <td>Below 20000</td>\n",
       "    </tr>\n",
       "  </tbody>\n",
       "</table>\n",
       "</div>"
      ],
      "text/plain": [
       "     Age  Diabetes  BloodPressureProblems  AnyTransplants  AnyChronicDiseases  \\\n",
       "154   21         0                      0               0                   0   \n",
       "158   43         0                      0               0                   0   \n",
       "183   36         0                      0               0                   0   \n",
       "186   19         0                      0               0                   0   \n",
       "192   50         1                      0               0                   0   \n",
       "195   19         0                      0               0                   0   \n",
       "196   39         0                      1               0                   0   \n",
       "203   24         0                      1               0                   0   \n",
       "204   27         0                      1               0                   0   \n",
       "207   18         0                      0               0                   0   \n",
       "217   65         0                      1               0                   0   \n",
       "218   62         0                      1               1                   0   \n",
       "221   61         0                      1               0                   1   \n",
       "225   57         1                      0               0                   0   \n",
       "227   44         0                      0               0                   0   \n",
       "228   22         1                      1               0                   0   \n",
       "\n",
       "     Height  Weight  KnownAllergies  HistoryOfCancerInFamily  \\\n",
       "154     157     118               1                        0   \n",
       "158     158     121               0                        0   \n",
       "183     156     119               0                        0   \n",
       "186     173     129               1                        0   \n",
       "192     163     127               0                        0   \n",
       "195     164     132               0                        0   \n",
       "196     174     120               0                        0   \n",
       "203     173     128               0                        0   \n",
       "204     159     120               1                        1   \n",
       "207     172     123               0                        1   \n",
       "217     177     126               0                        0   \n",
       "218     164     121               1                        0   \n",
       "221     174     118               0                        0   \n",
       "225     160     128               0                        0   \n",
       "227     182     124               0                        1   \n",
       "228     166     122               0                        0   \n",
       "\n",
       "     NumberOfMajorSurgeries  PremiumPrice age_bucket  price_range  \n",
       "154                       1         15000      21-25  Below 20000  \n",
       "158                       0         23000      41-45  21000-30000  \n",
       "183                       0         23000      36-40  21000-30000  \n",
       "186                       0         15000      18-20  Below 20000  \n",
       "192                       2         28000      46-50  21000-30000  \n",
       "195                       0         15000      18-20  Below 20000  \n",
       "196                       0         23000      36-40  21000-30000  \n",
       "203                       1         26000      21-25  21000-30000  \n",
       "204                       1         39000      26-30  Above 30000  \n",
       "207                       1         15000      18-20  Below 20000  \n",
       "217                       2         24000      61-67  21000-30000  \n",
       "218                       1         38000      61-67  Above 30000  \n",
       "221                       1         35000      61-67  Above 30000  \n",
       "225                       0         35000      56-60  Above 30000  \n",
       "227                       1         31000      41-45  Above 30000  \n",
       "228                       0         15000      21-25  Below 20000  "
      ]
     },
     "execution_count": 48,
     "metadata": {},
     "output_type": "execute_result"
    }
   ],
   "source": [
    "find_outlier"
   ]
  },
  {
   "cell_type": "markdown",
   "id": "8ca41041-b38d-4ce4-8865-e5cb6699390f",
   "metadata": {},
   "source": [
    "* The **Age** and **Height** features do not contain any outliers.\n",
    "* For the **PremiumPrice** feature, while it initially appears to have outliers, further investigation reveals the following:\n",
    "    * Individuals over 60 years old who have undergone 2 major surgeries and are dealing with diabetes, blood pressure issues, and chronic diseases often choose a premium insurance plan priced at 40,000.\n",
    "    * Individuals with 1 major surgery, weight issues, blood pressure problems, and some known allergies tend to opt for a premium insurance plan priced at 39,000.\n",
    "    * Similarly, individuals without any major surgeries but with blood pressure issues also prefer the 39,000 premium insurance plan.\n",
    "In all these scenarios, the purchase of higher premium insurance plans is justified, meaning these are not outliers that should be removed from the dataset.\n",
    "* The **weight** feature has outliers, but it also shows information about the number of surgeries individuals have done. Therefore, we should not remove these data points. "
   ]
  },
  {
   "cell_type": "markdown",
   "id": "e91ed3d1-0446-41ad-a982-f0ac581c61a6",
   "metadata": {},
   "source": [
    "#### Actions to take"
   ]
  },
  {
   "cell_type": "markdown",
   "id": "2d9b2987-182c-4ebd-ba44-75273040417c",
   "metadata": {},
   "source": [
    "* **Handle outliers**\n",
    "  * **Capping**: We can use the capping method to replace the extreme values with the nearest non-outlier value within a specific range.\n",
    "  * We can apply **Log transformation**\n",
    "  * we can create a new column to **segment customers** based on the observed health profiles "
   ]
  },
  {
   "cell_type": "code",
   "execution_count": 49,
   "id": "0d5aa1bb-ab07-4ea7-9536-ab4a3b02c91a",
   "metadata": {},
   "outputs": [],
   "source": [
    "# def segment_customers(row):\n",
    "#     if row['Age'] > 60 and row['Surgeries'] >= 2 and row['ChronicIllness'] == 1:\n",
    "#         return 'high_risk'\n",
    "#     elif row['Surgeries'] == 1 and row['WeightIssues'] == 1 and row['BloodPressure'] == 1:\n",
    "#         return 'medium_risk'\n",
    "#     elif row['Surgeries'] == 0 and row['BloodPressure'] == 1:\n",
    "#         return 'medium_risk'\n",
    "#     else:\n",
    "#         return 'low_risk'\n",
    "\n",
    "# # Apply segmentation\n",
    "# data['RiskSegment'] = data.apply(segment_customers, axis=1)\n",
    "# print(data['RiskSegment'].value_counts())"
   ]
  },
  {
   "cell_type": "markdown",
   "id": "085b53f6-8053-4124-a3aa-fe85c1c49f8f",
   "metadata": {},
   "source": [
    "##### Compute correlation between binary features"
   ]
  },
  {
   "cell_type": "code",
   "execution_count": 50,
   "id": "ad15bffb-92e7-4a75-926b-9875dbcf732f",
   "metadata": {},
   "outputs": [
    {
     "data": {
      "text/html": [
       "<div>\n",
       "<style scoped>\n",
       "    .dataframe tbody tr th:only-of-type {\n",
       "        vertical-align: middle;\n",
       "    }\n",
       "\n",
       "    .dataframe tbody tr th {\n",
       "        vertical-align: top;\n",
       "    }\n",
       "\n",
       "    .dataframe thead th {\n",
       "        text-align: right;\n",
       "    }\n",
       "</style>\n",
       "<table border=\"1\" class=\"dataframe\">\n",
       "  <thead>\n",
       "    <tr style=\"text-align: right;\">\n",
       "      <th></th>\n",
       "      <th>Diabetes</th>\n",
       "      <th>BloodPressureProblems</th>\n",
       "      <th>AnyTransplants</th>\n",
       "      <th>AnyChronicDiseases</th>\n",
       "      <th>KnownAllergies</th>\n",
       "      <th>HistoryOfCancerInFamily</th>\n",
       "    </tr>\n",
       "  </thead>\n",
       "  <tbody>\n",
       "    <tr>\n",
       "      <th>Diabetes</th>\n",
       "      <td>1.000000</td>\n",
       "      <td>0.127727</td>\n",
       "      <td>-0.036652</td>\n",
       "      <td>-0.089428</td>\n",
       "      <td>-0.080102</td>\n",
       "      <td>-0.055527</td>\n",
       "    </tr>\n",
       "    <tr>\n",
       "      <th>BloodPressureProblems</th>\n",
       "      <td>0.127727</td>\n",
       "      <td>1.000000</td>\n",
       "      <td>-0.024538</td>\n",
       "      <td>0.045424</td>\n",
       "      <td>-0.011550</td>\n",
       "      <td>0.048239</td>\n",
       "    </tr>\n",
       "    <tr>\n",
       "      <th>AnyTransplants</th>\n",
       "      <td>-0.036652</td>\n",
       "      <td>-0.024538</td>\n",
       "      <td>1.000000</td>\n",
       "      <td>0.035285</td>\n",
       "      <td>0.001876</td>\n",
       "      <td>-0.020171</td>\n",
       "    </tr>\n",
       "    <tr>\n",
       "      <th>AnyChronicDiseases</th>\n",
       "      <td>-0.089428</td>\n",
       "      <td>0.045424</td>\n",
       "      <td>0.035285</td>\n",
       "      <td>1.000000</td>\n",
       "      <td>-0.027418</td>\n",
       "      <td>0.008666</td>\n",
       "    </tr>\n",
       "    <tr>\n",
       "      <th>KnownAllergies</th>\n",
       "      <td>-0.080102</td>\n",
       "      <td>-0.011550</td>\n",
       "      <td>0.001876</td>\n",
       "      <td>-0.027418</td>\n",
       "      <td>1.000000</td>\n",
       "      <td>0.115383</td>\n",
       "    </tr>\n",
       "    <tr>\n",
       "      <th>HistoryOfCancerInFamily</th>\n",
       "      <td>-0.055527</td>\n",
       "      <td>0.048239</td>\n",
       "      <td>-0.020171</td>\n",
       "      <td>0.008666</td>\n",
       "      <td>0.115383</td>\n",
       "      <td>1.000000</td>\n",
       "    </tr>\n",
       "  </tbody>\n",
       "</table>\n",
       "</div>"
      ],
      "text/plain": [
       "                         Diabetes  BloodPressureProblems  AnyTransplants  \\\n",
       "Diabetes                 1.000000               0.127727       -0.036652   \n",
       "BloodPressureProblems    0.127727               1.000000       -0.024538   \n",
       "AnyTransplants          -0.036652              -0.024538        1.000000   \n",
       "AnyChronicDiseases      -0.089428               0.045424        0.035285   \n",
       "KnownAllergies          -0.080102              -0.011550        0.001876   \n",
       "HistoryOfCancerInFamily -0.055527               0.048239       -0.020171   \n",
       "\n",
       "                         AnyChronicDiseases  KnownAllergies  \\\n",
       "Diabetes                          -0.089428       -0.080102   \n",
       "BloodPressureProblems              0.045424       -0.011550   \n",
       "AnyTransplants                     0.035285        0.001876   \n",
       "AnyChronicDiseases                 1.000000       -0.027418   \n",
       "KnownAllergies                    -0.027418        1.000000   \n",
       "HistoryOfCancerInFamily            0.008666        0.115383   \n",
       "\n",
       "                         HistoryOfCancerInFamily  \n",
       "Diabetes                               -0.055527  \n",
       "BloodPressureProblems                   0.048239  \n",
       "AnyTransplants                         -0.020171  \n",
       "AnyChronicDiseases                      0.008666  \n",
       "KnownAllergies                          0.115383  \n",
       "HistoryOfCancerInFamily                 1.000000  "
      ]
     },
     "execution_count": 50,
     "metadata": {},
     "output_type": "execute_result"
    }
   ],
   "source": [
    "\n",
    "binary_features = ['Diabetes', 'BloodPressureProblems', 'AnyTransplants',\n",
    "                   'AnyChronicDiseases', 'KnownAllergies', 'HistoryOfCancerInFamily']\n",
    "correlation_matrix = data[binary_features].corr(method='pearson')\n",
    "correlation_matrix\n"
   ]
  },
  {
   "cell_type": "markdown",
   "id": "247a920b-a92b-44c1-bdbe-6f9f09e8745e",
   "metadata": {},
   "source": [
    "* Almost all pairwise correlations are very close to 0, meaning that the binary features are mainly independent of each other and don't have a strong relation\n",
    "* The correlation between **Diabetes** and **BloodPressureProblems** is 0.127, showing a **weak positive correlation**.\n",
    "* The correlation between **AnyChronicDiseases** and **KnownAllergies** is -0.027, indicating a **weak negative correlation** between these two features.\n",
    "* The interesting pairs **KnownAllergies** and **HistoryOfCancerInFamily** have the highest correlation, 0.115, which is still weak but worth noting."
   ]
  },
  {
   "cell_type": "markdown",
   "id": "166362c3-4a41-41ce-a80d-3a31be8f1be8",
   "metadata": {},
   "source": [
    "#### Actions to take\n",
    "*  There is no need to drop or combine these features, as they are not strongly correlated.\n",
    "*  Each binary feature can provide unique information to the model without redundancy.\n",
    "*  We can check multicollinearity between these features."
   ]
  },
  {
   "cell_type": "code",
   "execution_count": 51,
   "id": "e914b357-111b-49bb-872e-f6d126f1a36b",
   "metadata": {},
   "outputs": [
    {
     "data": {
      "text/html": [
       "<div>\n",
       "<style scoped>\n",
       "    .dataframe tbody tr th:only-of-type {\n",
       "        vertical-align: middle;\n",
       "    }\n",
       "\n",
       "    .dataframe tbody tr th {\n",
       "        vertical-align: top;\n",
       "    }\n",
       "\n",
       "    .dataframe thead th {\n",
       "        text-align: right;\n",
       "    }\n",
       "</style>\n",
       "<table border=\"1\" class=\"dataframe\">\n",
       "  <thead>\n",
       "    <tr style=\"text-align: right;\">\n",
       "      <th></th>\n",
       "      <th>binary</th>\n",
       "      <th>VIF</th>\n",
       "    </tr>\n",
       "  </thead>\n",
       "  <tbody>\n",
       "    <tr>\n",
       "      <th>0</th>\n",
       "      <td>Diabetes</td>\n",
       "      <td>1.485400</td>\n",
       "    </tr>\n",
       "    <tr>\n",
       "      <th>1</th>\n",
       "      <td>BloodPressureProblems</td>\n",
       "      <td>1.780855</td>\n",
       "    </tr>\n",
       "    <tr>\n",
       "      <th>2</th>\n",
       "      <td>AnyTransplants</td>\n",
       "      <td>1.039127</td>\n",
       "    </tr>\n",
       "    <tr>\n",
       "      <th>3</th>\n",
       "      <td>AnyChronicDiseases</td>\n",
       "      <td>1.146890</td>\n",
       "    </tr>\n",
       "    <tr>\n",
       "      <th>4</th>\n",
       "      <td>KnownAllergies</td>\n",
       "      <td>1.208010</td>\n",
       "    </tr>\n",
       "    <tr>\n",
       "      <th>5</th>\n",
       "      <td>HistoryOfCancerInFamily</td>\n",
       "      <td>1.191486</td>\n",
       "    </tr>\n",
       "    <tr>\n",
       "      <th>6</th>\n",
       "      <td>NumberOfMajorSurgeries</td>\n",
       "      <td>1.909215</td>\n",
       "    </tr>\n",
       "  </tbody>\n",
       "</table>\n",
       "</div>"
      ],
      "text/plain": [
       "                    binary       VIF\n",
       "0                 Diabetes  1.485400\n",
       "1    BloodPressureProblems  1.780855\n",
       "2           AnyTransplants  1.039127\n",
       "3       AnyChronicDiseases  1.146890\n",
       "4           KnownAllergies  1.208010\n",
       "5  HistoryOfCancerInFamily  1.191486\n",
       "6   NumberOfMajorSurgeries  1.909215"
      ]
     },
     "execution_count": 51,
     "metadata": {},
     "output_type": "execute_result"
    }
   ],
   "source": [
    "binary_features = data[['Diabetes', 'BloodPressureProblems', 'AnyTransplants', 'AnyChronicDiseases', 'KnownAllergies', 'HistoryOfCancerInFamily','NumberOfMajorSurgeries']]\n",
    "vif = pd.DataFrame()\n",
    "vif[\"binary\"] = binary_features.columns\n",
    "vif[\"VIF\"] = [variance_inflation_factor(binary_features.values, i) for i in range(binary_features.shape[1])]\n",
    "vif"
   ]
  },
  {
   "cell_type": "markdown",
   "id": "198d07f4-c28a-4d0c-9ff4-a0fb9839bfd3",
   "metadata": {},
   "source": [
    "* All the features have VIF values close to 1, which indicates no significant correlation with other features in the dataset.\n",
    "* This confirms that none of the binary features are strongly dependent on a combination of others.\n",
    "  "
   ]
  },
  {
   "cell_type": "markdown",
   "id": "0de8950c-e756-4291-94c4-7ed5e5e146c2",
   "metadata": {},
   "source": [
    "##### Compute relationship of binary features with target feature"
   ]
  },
  {
   "cell_type": "code",
   "execution_count": 52,
   "id": "ec68cb53-7486-4ddf-a727-95b7d9126522",
   "metadata": {},
   "outputs": [
    {
     "name": "stdout",
     "output_type": "stream",
     "text": [
      "Diabetes: correlation = 0.076, p = 0.017\n",
      "BloodPressureProblems: correlation = 0.167, p = 0.000\n",
      "AnyTransplants: correlation = 0.289, p = 0.000\n",
      "AnyChronicDiseases: correlation = 0.209, p = 0.000\n",
      "KnownAllergies: correlation = 0.012, p = 0.704\n",
      "HistoryOfCancerInFamily: correlation = 0.083, p = 0.009\n",
      "NumberOfMajorSurgeries: correlation = 0.264, p = 0.000\n"
     ]
    }
   ],
   "source": [
    "binary_features = ['Diabetes', 'BloodPressureProblems', 'AnyTransplants',\n",
    "                   'AnyChronicDiseases', 'KnownAllergies', 'HistoryOfCancerInFamily','NumberOfMajorSurgeries']\n",
    "for feature in binary_features:\n",
    "    correlation, p_value = pointbiserialr(data[feature], data['PremiumPrice'])\n",
    "    print(f\"{feature}: correlation = {correlation:.3f}, p = {p_value:.3f}\")\n"
   ]
  },
  {
   "cell_type": "markdown",
   "id": "5a2d01f8-6fa0-4303-b0b8-6b7339f82eb1",
   "metadata": {},
   "source": [
    "* Having diabetes is weakly associated with a higher premium price, but the relationship is significant.\n",
    "* Blood pressure problems are moderately associated with higher premium prices.\n",
    "* A history of transplants shows a strong and significant association with higher premium prices.\n",
    "* Chronic diseases are moderately and significantly associated with higher premium prices.\n",
    "* Known allergies do not show any meaningful association with premium prices.\n",
    "* A family history of cancer has a weak but significant association with higher premium prices.\n"
   ]
  },
  {
   "cell_type": "markdown",
   "id": "2faff17d-7ba3-4d53-8ee9-11e423606bfc",
   "metadata": {},
   "source": [
    "#### Hypothesis testing"
   ]
  },
  {
   "cell_type": "markdown",
   "id": "881fb95a-feb5-4335-a979-23307b6fdc4f",
   "metadata": {},
   "source": [
    "##### correlation between continuous feature and premium price\n",
    "* **Pearson correlation** : If data is normally distibuted. (Age, Height)\n",
    "* **Spearman correlation** : If data is not normally dustibuted (Weight)"
   ]
  },
  {
   "cell_type": "markdown",
   "id": "ae0784ee-87dc-4e5c-84ef-1e9339aab9f9",
   "metadata": {},
   "source": [
    "#### Find out corelation between age and premium price"
   ]
  },
  {
   "cell_type": "code",
   "execution_count": 53,
   "id": "4b1198e0-1a35-485a-b40f-a970c2d1c465",
   "metadata": {},
   "outputs": [
    {
     "name": "stdout",
     "output_type": "stream",
     "text": [
      "reject the null hypothesis. Conclude that there is a significant difference in premium prices and age\n"
     ]
    }
   ],
   "source": [
    "h0 = \"There is no significant correlation between age and the premium price.\"\n",
    "ha = \"There is a significant correlation between age and the premium price.\"\n",
    "alpha = 0.05\n",
    "pearson_corr, p_value = pearsonr(data['Age'], data['PremiumPrice'])\n",
    "\n",
    "if p_value < 0.05:\n",
    "    print(\"reject the null hypothesis. Conclude that there is a significant difference in premium prices and age\")\n",
    "else:\n",
    "    print(\" fail to reject the null hypothesis. Conclude that there is no significant difference in premium prices and given age\")\n",
    "\n"
   ]
  },
  {
   "cell_type": "markdown",
   "id": "cff50d46-5689-4e04-9f2f-7d34e323b92b",
   "metadata": {},
   "source": [
    "#### Find out correlation between height and premium price"
   ]
  },
  {
   "cell_type": "code",
   "execution_count": 54,
   "id": "ca0d8c6f-c750-46a4-a0e7-149e62f21ef0",
   "metadata": {},
   "outputs": [
    {
     "name": "stdout",
     "output_type": "stream",
     "text": [
      " fail to reject the null hypothesis. Conclude that there is no significant difference in premium prices and given height\n"
     ]
    }
   ],
   "source": [
    "h0 = \"There is no significant correlation between height and the premium price.\"\n",
    "ha = \"There is a significant correlation between height and the premium price.\"\n",
    "alpha = 0.05\n",
    "pearson_corr, p_value = pearsonr(data['Height'], data['PremiumPrice'])\n",
    "\n",
    "if p_value < 0.05:\n",
    "    print(\"reject the null hypothesis. Conclude that there is a significant difference in premium prices and height\")\n",
    "else:\n",
    "    print(\" fail to reject the null hypothesis. Conclude that there is no significant difference in premium prices and given height\")\n"
   ]
  },
  {
   "cell_type": "markdown",
   "id": "3a413546-7c63-4e24-9dc0-7e741da8a364",
   "metadata": {},
   "source": [
    "#### Find out correlation between weight and premium price"
   ]
  },
  {
   "cell_type": "code",
   "execution_count": 55,
   "id": "03031203-686e-463d-aee0-8539f70d96c7",
   "metadata": {},
   "outputs": [
    {
     "name": "stdout",
     "output_type": "stream",
     "text": [
      "reject the null hypothesis. Conclude that there is a significant difference in premium prices and weight\n"
     ]
    }
   ],
   "source": [
    "h0 = \"There is no significant correlation between weight and the premium price.\"\n",
    "ha = \"There is a significant correlation between weight and the premium price.\"\n",
    "alpha = 0.05\n",
    "spearman_corr, p_value = spearmanr(data['Weight'], data['PremiumPrice'])\n",
    "if p_value < 0.05:\n",
    "    print(\"reject the null hypothesis. Conclude that there is a significant difference in premium prices and weight\")\n",
    "else:\n",
    "    print(\" fail to reject the null hypothesis. Conclude that there is no significant difference in premium prices and given weight\")\n"
   ]
  },
  {
   "cell_type": "markdown",
   "id": "a80c4f5d-4906-460c-82b7-1c26577fbac1",
   "metadata": {},
   "source": [
    "#### Compare the means of premium prices across different groups defined by categorical variables"
   ]
  },
  {
   "cell_type": "markdown",
   "id": "426aeb79-6b3e-42cb-9db3-97b8373e055b",
   "metadata": {},
   "source": [
    "* **Binary Features** - ['Diabetes', 'BloodPressureProblems', 'AnyTransplants','AnyChronicDiseases', 'KnownAllergies','HistoryOfCancerInFamily']\n",
    "* Use **Mann-Whitney** U Test (if outliers are present)or **independent** t-test."
   ]
  },
  {
   "cell_type": "markdown",
   "id": "59088a9e-2a38-4879-8740-6ada9327e332",
   "metadata": {},
   "source": [
    "##### Premium price and diabetes"
   ]
  },
  {
   "cell_type": "code",
   "execution_count": 56,
   "id": "9692064e-9437-4a1e-b064-53c69cd5f6a3",
   "metadata": {},
   "outputs": [
    {
     "name": "stdout",
     "output_type": "stream",
     "text": [
      "reject the null hypothesis. Conclude that there is a significant difference in premium prices between individuals with and without diabetes.\n"
     ]
    }
   ],
   "source": [
    "diabetes_0 = data[data['Diabetes'] == 0]['PremiumPrice']\n",
    "diabetes_1 = data[data['Diabetes'] == 1]['PremiumPrice']\n",
    "\n",
    "H0 = \"There is no significant difference in premium prices between individuals with and without diabetes.\"\n",
    "Ha = \"There is a significant difference in premium prices between individuals with and without diabetes.\"\n",
    "alpha = 0.05 \n",
    "# Independent t-test\n",
    "t_stat, p_value = ttest_ind(diabetes_0, diabetes_1, equal_var=True)\n",
    "if p_value < 0.05:\n",
    "    print(\"reject the null hypothesis. Conclude that there is a significant difference in premium prices between individuals with and without diabetes.\")\n",
    "else:\n",
    "    print(\" fail to reject the null hypothesis. Conclude that there is no significant difference in premium price between individuals with and without diabetes.\")\n",
    "    \n"
   ]
  },
  {
   "cell_type": "markdown",
   "id": "ad656179-9468-483e-9186-ce6d735624f6",
   "metadata": {},
   "source": [
    "##### blood pressure problem and premium price"
   ]
  },
  {
   "cell_type": "code",
   "execution_count": 57,
   "id": "6dd4af2d-d727-427a-a4ac-b955a9a23866",
   "metadata": {},
   "outputs": [
    {
     "name": "stdout",
     "output_type": "stream",
     "text": [
      "reject the null hypothesis. Conclude that there is a significant difference in premium prices between individuals with and without diabetes.\n"
     ]
    }
   ],
   "source": [
    "bp_0 = data[data['BloodPressureProblems'] == 0]['PremiumPrice']\n",
    "bp_1 = data[data['BloodPressureProblems'] == 1]['PremiumPrice']\n",
    "\n",
    "H0 = \"There is no significant difference in premium prices between individuals with and without BloodPressureProblems\"\n",
    "Ha = \"There is a significant difference in premium prices between individuals with and without BloodPressureProblems\"\n",
    "alpha = 0.05 \n",
    "# Independent t-test\n",
    "t_stat, p_value = ttest_ind(bp_0, bp_1, equal_var=True)\n",
    "if p_value < 0.05:\n",
    "    print(\"reject the null hypothesis. Conclude that there is a significant difference in premium prices between individuals with and without diabetes.\")\n",
    "else:\n",
    "    print(\" fail to reject the null hypothesis. Conclude that there is no significant difference in premium price between individuals with and without diabetes.\")\n",
    "    \n"
   ]
  },
  {
   "cell_type": "markdown",
   "id": "eb4635d4-5912-43f5-84de-078db9641c2b",
   "metadata": {},
   "source": [
    "##### chronic diseases and premium price"
   ]
  },
  {
   "cell_type": "code",
   "execution_count": 58,
   "id": "5d393484-4117-426b-8c2e-158a0aeaf3e1",
   "metadata": {},
   "outputs": [
    {
     "name": "stdout",
     "output_type": "stream",
     "text": [
      "reject the null hypothesis. There is a significant difference in premium prices between individuals with and without a any chronic diseases\n"
     ]
    }
   ],
   "source": [
    "chronic_0 = data[data['AnyChronicDiseases'] == 0]['PremiumPrice']\n",
    "chronic_1 = data[data['AnyChronicDiseases'] == 1]['PremiumPrice']\n",
    "H0= \"There is no significant difference in premium prices between individuals with and without a any chronic diseases.\"\n",
    "Ha= \"There is a significant difference in premium prices between individuals with and without a any chronic diseases.\"\n",
    "alpha = 0.05\n",
    "u_stat, p_value = mannwhitneyu(chronic_0, chronic_1, alternative='two-sided')\n",
    "if p_value < 0.05:\n",
    "    print(\"reject the null hypothesis. There is a significant difference in premium prices between individuals with and without a any chronic diseases\")\n",
    "else:\n",
    "    print(\" fail to reject the null hypothesis. There is no significant difference in premium prices between individuals with and without a any chronic diseases.\")\n",
    "    \n"
   ]
  },
  {
   "cell_type": "markdown",
   "id": "079deb6f-1e46-43dd-99e7-6aaf1b65be7e",
   "metadata": {},
   "source": [
    "##### Any transplant and premium price "
   ]
  },
  {
   "cell_type": "code",
   "execution_count": 59,
   "id": "4d93be51-3206-4728-98e0-bc478731687c",
   "metadata": {},
   "outputs": [
    {
     "name": "stdout",
     "output_type": "stream",
     "text": [
      "reject the null hypothesis. There is a significant difference in premium prices between individuals with and without a history of transplants.\n"
     ]
    }
   ],
   "source": [
    "trans_0 = data[data['AnyTransplants'] == 0]['PremiumPrice']\n",
    "trans_1 = data[data['AnyTransplants'] == 1]['PremiumPrice']\n",
    "H0= \"There is no significant difference in premium prices between individuals with and without a history of transplants.\"\n",
    "Ha= \"There is a significant difference in premium prices between individuals with and without a history of transplants.\"\n",
    "alpha = 0.05\n",
    "u_stat, p_value = mannwhitneyu(trans_0, trans_1, alternative='two-sided')\n",
    "if p_value < 0.05:\n",
    "    print(\"reject the null hypothesis. There is a significant difference in premium prices between individuals with and without a history of transplants.\")\n",
    "else:\n",
    "    print(\" fail to reject the null hypothesis. There is no significant difference in premium prices between individuals with and without a history of transplants.\")\n",
    "    "
   ]
  },
  {
   "cell_type": "markdown",
   "id": "5c60a52d-f319-46b2-9d92-2234032c162a",
   "metadata": {},
   "source": [
    "##### Number of major surgeries and Premium price"
   ]
  },
  {
   "cell_type": "code",
   "execution_count": 60,
   "id": "29cf7a12-200e-4206-9300-14e3c1b1335e",
   "metadata": {},
   "outputs": [
    {
     "name": "stdout",
     "output_type": "stream",
     "text": [
      "reject the null hypothesis.The number of major surgeries significantly affects the premium price.\n"
     ]
    }
   ],
   "source": [
    "H0 = \"The number of major surgeries does not significantly affect the premium price.\"\n",
    "\n",
    "Ha=\"The number of major surgeries significantly affects the premium price.\"\n",
    "alpha = 0.05\n",
    "surgery_groups = [group['PremiumPrice'] for _, group in data.groupby('NumberOfMajorSurgeries')]\n",
    "h_stat, p_value = kruskal(*surgery_groups)\n",
    "if p_value < 0.05:\n",
    "    print(\"reject the null hypothesis.The number of major surgeries significantly affects the premium price.\")\n",
    "else:\n",
    "    print(\" fail to reject the null hypothesis. The number of major surgeries significantly affects the premium price.\")\n",
    "    "
   ]
  },
  {
   "cell_type": "markdown",
   "id": "c371b12b-8b4b-40b1-9666-59b47c631324",
   "metadata": {},
   "source": [
    "##### Is there an association between having transplants and a family history of cancer?\n"
   ]
  },
  {
   "cell_type": "code",
   "execution_count": 61,
   "id": "cc21016e-d097-4f0f-a77a-e66191288712",
   "metadata": {},
   "outputs": [
    {
     "name": "stdout",
     "output_type": "stream",
     "text": [
      "reject the null hypothesis.There is association between having transplants and family history of cancer\n"
     ]
    }
   ],
   "source": [
    "H0 = \"There is no association between having transplants and family history of cancer\"\n",
    "Ha = \"There is association between having transplants and family history of cancer\"\n",
    "contingency_table = pd.crosstab(data['AnyTransplants'], data['HistoryOfCancerInFamily'])\n",
    "chi2, p, dof, expected = chi2_contingency(contingency_table)\n",
    "alpha = 0.05\n",
    "if p_value < 0.05:\n",
    "    print(\"reject the null hypothesis.There is association between having transplants and family history of cancer\")\n",
    "else:\n",
    "    print(\" fail to reject the null hypothesis. There is no association between having transplants and family history of cancer\")"
   ]
  },
  {
   "cell_type": "markdown",
   "id": "d8c724d2-83a4-44d0-bf5f-ffe7b3605476",
   "metadata": {},
   "source": [
    "##### Do individuals with and without chronic diseases have different distributions of surgeries?"
   ]
  },
  {
   "cell_type": "code",
   "execution_count": 62,
   "id": "a64ea93c-a876-48ba-b601-ed272bba2359",
   "metadata": {},
   "outputs": [
    {
     "name": "stdout",
     "output_type": "stream",
     "text": [
      "reject the null hypothesis.Individuals with and without chronic diseases  have different distributions of surgeries\n"
     ]
    }
   ],
   "source": [
    "H0 = \"Individuals with and without chronic diseases does not have different distributions of surgeries\"\n",
    "Ha = \"Individuals with and without chronic diseases  have different distributions of surgeries\"\n",
    "group1 = data[data['AnyChronicDiseases'] == 0]['NumberOfMajorSurgeries']\n",
    "group2 = data[data['AnyChronicDiseases'] == 1]['NumberOfMajorSurgeries']\n",
    "alpha = 0.05\n",
    "stat, p = mannwhitneyu(group1, group2)\n",
    "if p_value < 0.05:\n",
    "    print(\"reject the null hypothesis.Individuals with and without chronic diseases  have different distributions of surgeries\")\n",
    "else:\n",
    "    print(\" fail to reject the null hypothesis.Individuals with and without chronic diseases does not have different distributions of surgeries\")"
   ]
  },
  {
   "cell_type": "code",
   "execution_count": 63,
   "id": "ed9a6553-c697-446f-a98e-d5982cae49a7",
   "metadata": {},
   "outputs": [
    {
     "data": {
      "text/html": [
       "<div>\n",
       "<style scoped>\n",
       "    .dataframe tbody tr th:only-of-type {\n",
       "        vertical-align: middle;\n",
       "    }\n",
       "\n",
       "    .dataframe tbody tr th {\n",
       "        vertical-align: top;\n",
       "    }\n",
       "\n",
       "    .dataframe thead th {\n",
       "        text-align: right;\n",
       "    }\n",
       "</style>\n",
       "<table border=\"1\" class=\"dataframe\">\n",
       "  <thead>\n",
       "    <tr style=\"text-align: right;\">\n",
       "      <th></th>\n",
       "      <th>Age</th>\n",
       "      <th>Diabetes</th>\n",
       "      <th>BloodPressureProblems</th>\n",
       "      <th>AnyTransplants</th>\n",
       "      <th>AnyChronicDiseases</th>\n",
       "      <th>Height</th>\n",
       "      <th>Weight</th>\n",
       "      <th>KnownAllergies</th>\n",
       "      <th>HistoryOfCancerInFamily</th>\n",
       "      <th>NumberOfMajorSurgeries</th>\n",
       "      <th>PremiumPrice</th>\n",
       "      <th>age_bucket</th>\n",
       "      <th>price_range</th>\n",
       "    </tr>\n",
       "  </thead>\n",
       "  <tbody>\n",
       "    <tr>\n",
       "      <th>722</th>\n",
       "      <td>18</td>\n",
       "      <td>0</td>\n",
       "      <td>0</td>\n",
       "      <td>0</td>\n",
       "      <td>0</td>\n",
       "      <td>172</td>\n",
       "      <td>71</td>\n",
       "      <td>0</td>\n",
       "      <td>0</td>\n",
       "      <td>0</td>\n",
       "      <td>15000</td>\n",
       "      <td>18-20</td>\n",
       "      <td>Below 20000</td>\n",
       "    </tr>\n",
       "    <tr>\n",
       "      <th>421</th>\n",
       "      <td>36</td>\n",
       "      <td>0</td>\n",
       "      <td>0</td>\n",
       "      <td>0</td>\n",
       "      <td>0</td>\n",
       "      <td>165</td>\n",
       "      <td>72</td>\n",
       "      <td>0</td>\n",
       "      <td>0</td>\n",
       "      <td>0</td>\n",
       "      <td>23000</td>\n",
       "      <td>36-40</td>\n",
       "      <td>21000-30000</td>\n",
       "    </tr>\n",
       "    <tr>\n",
       "      <th>788</th>\n",
       "      <td>30</td>\n",
       "      <td>0</td>\n",
       "      <td>0</td>\n",
       "      <td>1</td>\n",
       "      <td>0</td>\n",
       "      <td>158</td>\n",
       "      <td>81</td>\n",
       "      <td>0</td>\n",
       "      <td>1</td>\n",
       "      <td>1</td>\n",
       "      <td>27000</td>\n",
       "      <td>26-30</td>\n",
       "      <td>21000-30000</td>\n",
       "    </tr>\n",
       "    <tr>\n",
       "      <th>484</th>\n",
       "      <td>58</td>\n",
       "      <td>1</td>\n",
       "      <td>0</td>\n",
       "      <td>0</td>\n",
       "      <td>0</td>\n",
       "      <td>176</td>\n",
       "      <td>51</td>\n",
       "      <td>0</td>\n",
       "      <td>0</td>\n",
       "      <td>0</td>\n",
       "      <td>25000</td>\n",
       "      <td>56-60</td>\n",
       "      <td>21000-30000</td>\n",
       "    </tr>\n",
       "    <tr>\n",
       "      <th>569</th>\n",
       "      <td>58</td>\n",
       "      <td>1</td>\n",
       "      <td>0</td>\n",
       "      <td>0</td>\n",
       "      <td>0</td>\n",
       "      <td>180</td>\n",
       "      <td>74</td>\n",
       "      <td>0</td>\n",
       "      <td>0</td>\n",
       "      <td>2</td>\n",
       "      <td>28000</td>\n",
       "      <td>56-60</td>\n",
       "      <td>21000-30000</td>\n",
       "    </tr>\n",
       "    <tr>\n",
       "      <th>479</th>\n",
       "      <td>45</td>\n",
       "      <td>1</td>\n",
       "      <td>0</td>\n",
       "      <td>0</td>\n",
       "      <td>1</td>\n",
       "      <td>181</td>\n",
       "      <td>58</td>\n",
       "      <td>0</td>\n",
       "      <td>0</td>\n",
       "      <td>1</td>\n",
       "      <td>25000</td>\n",
       "      <td>41-45</td>\n",
       "      <td>21000-30000</td>\n",
       "    </tr>\n",
       "    <tr>\n",
       "      <th>723</th>\n",
       "      <td>56</td>\n",
       "      <td>1</td>\n",
       "      <td>1</td>\n",
       "      <td>0</td>\n",
       "      <td>0</td>\n",
       "      <td>171</td>\n",
       "      <td>98</td>\n",
       "      <td>0</td>\n",
       "      <td>1</td>\n",
       "      <td>1</td>\n",
       "      <td>35000</td>\n",
       "      <td>56-60</td>\n",
       "      <td>Above 30000</td>\n",
       "    </tr>\n",
       "    <tr>\n",
       "      <th>110</th>\n",
       "      <td>55</td>\n",
       "      <td>0</td>\n",
       "      <td>1</td>\n",
       "      <td>0</td>\n",
       "      <td>0</td>\n",
       "      <td>159</td>\n",
       "      <td>91</td>\n",
       "      <td>1</td>\n",
       "      <td>0</td>\n",
       "      <td>1</td>\n",
       "      <td>29000</td>\n",
       "      <td>51-55</td>\n",
       "      <td>21000-30000</td>\n",
       "    </tr>\n",
       "    <tr>\n",
       "      <th>872</th>\n",
       "      <td>42</td>\n",
       "      <td>0</td>\n",
       "      <td>0</td>\n",
       "      <td>0</td>\n",
       "      <td>0</td>\n",
       "      <td>155</td>\n",
       "      <td>69</td>\n",
       "      <td>0</td>\n",
       "      <td>0</td>\n",
       "      <td>1</td>\n",
       "      <td>23000</td>\n",
       "      <td>41-45</td>\n",
       "      <td>21000-30000</td>\n",
       "    </tr>\n",
       "    <tr>\n",
       "      <th>470</th>\n",
       "      <td>35</td>\n",
       "      <td>1</td>\n",
       "      <td>0</td>\n",
       "      <td>0</td>\n",
       "      <td>0</td>\n",
       "      <td>173</td>\n",
       "      <td>60</td>\n",
       "      <td>0</td>\n",
       "      <td>0</td>\n",
       "      <td>0</td>\n",
       "      <td>23000</td>\n",
       "      <td>31-35</td>\n",
       "      <td>21000-30000</td>\n",
       "    </tr>\n",
       "  </tbody>\n",
       "</table>\n",
       "</div>"
      ],
      "text/plain": [
       "     Age  Diabetes  BloodPressureProblems  AnyTransplants  AnyChronicDiseases  \\\n",
       "722   18         0                      0               0                   0   \n",
       "421   36         0                      0               0                   0   \n",
       "788   30         0                      0               1                   0   \n",
       "484   58         1                      0               0                   0   \n",
       "569   58         1                      0               0                   0   \n",
       "479   45         1                      0               0                   1   \n",
       "723   56         1                      1               0                   0   \n",
       "110   55         0                      1               0                   0   \n",
       "872   42         0                      0               0                   0   \n",
       "470   35         1                      0               0                   0   \n",
       "\n",
       "     Height  Weight  KnownAllergies  HistoryOfCancerInFamily  \\\n",
       "722     172      71               0                        0   \n",
       "421     165      72               0                        0   \n",
       "788     158      81               0                        1   \n",
       "484     176      51               0                        0   \n",
       "569     180      74               0                        0   \n",
       "479     181      58               0                        0   \n",
       "723     171      98               0                        1   \n",
       "110     159      91               1                        0   \n",
       "872     155      69               0                        0   \n",
       "470     173      60               0                        0   \n",
       "\n",
       "     NumberOfMajorSurgeries  PremiumPrice age_bucket  price_range  \n",
       "722                       0         15000      18-20  Below 20000  \n",
       "421                       0         23000      36-40  21000-30000  \n",
       "788                       1         27000      26-30  21000-30000  \n",
       "484                       0         25000      56-60  21000-30000  \n",
       "569                       2         28000      56-60  21000-30000  \n",
       "479                       1         25000      41-45  21000-30000  \n",
       "723                       1         35000      56-60  Above 30000  \n",
       "110                       1         29000      51-55  21000-30000  \n",
       "872                       1         23000      41-45  21000-30000  \n",
       "470                       0         23000      31-35  21000-30000  "
      ]
     },
     "execution_count": 63,
     "metadata": {},
     "output_type": "execute_result"
    }
   ],
   "source": [
    "data.sample(10)"
   ]
  },
  {
   "cell_type": "markdown",
   "id": "10d1f5f7-0dbf-4ab0-bc08-4711e27acd0f",
   "metadata": {},
   "source": [
    "#### Data Preprocessing"
   ]
  },
  {
   "cell_type": "code",
   "execution_count": 64,
   "id": "1c277856-9eec-4122-8eee-7d1c5d18b44e",
   "metadata": {},
   "outputs": [],
   "source": [
    "data.drop(columns=['age_bucket', 'price_range'], inplace=True)"
   ]
  },
  {
   "cell_type": "code",
   "execution_count": 65,
   "id": "6d592b52-f9ea-4283-8397-74d3263777b5",
   "metadata": {},
   "outputs": [
    {
     "data": {
      "text/plain": [
       "Index(['Age', 'Diabetes', 'BloodPressureProblems', 'AnyTransplants',\n",
       "       'AnyChronicDiseases', 'Height', 'Weight', 'KnownAllergies',\n",
       "       'HistoryOfCancerInFamily', 'NumberOfMajorSurgeries', 'PremiumPrice'],\n",
       "      dtype='object')"
      ]
     },
     "execution_count": 65,
     "metadata": {},
     "output_type": "execute_result"
    }
   ],
   "source": [
    "data.columns"
   ]
  },
  {
   "cell_type": "markdown",
   "id": "86f2b2b0-c049-430f-9d6b-5bdfd2093fd4",
   "metadata": {},
   "source": [
    "##### Create feature IBM"
   ]
  },
  {
   "cell_type": "code",
   "execution_count": 66,
   "id": "8cbd3905-890d-4f83-a058-48df8f7066ee",
   "metadata": {},
   "outputs": [],
   "source": [
    "data['IBM'] =np.round( data['Weight'] / (data['Height'] / 100) ** 2).astype(int)"
   ]
  },
  {
   "cell_type": "code",
   "execution_count": 67,
   "id": "396f6817-616b-48f4-bc85-9e72a75b09ac",
   "metadata": {},
   "outputs": [
    {
     "data": {
      "text/plain": [
       "133    43\n",
       "253    32\n",
       "190    30\n",
       "444    29\n",
       "965    25\n",
       "917    21\n",
       "11     19\n",
       "146    20\n",
       "847    33\n",
       "275    29\n",
       "Name: IBM, dtype: int32"
      ]
     },
     "execution_count": 67,
     "metadata": {},
     "output_type": "execute_result"
    }
   ],
   "source": [
    "data['IBM'].sample(10)"
   ]
  },
  {
   "cell_type": "code",
   "execution_count": 68,
   "id": "e9924ada-e6e6-4d40-af80-831a81707500",
   "metadata": {},
   "outputs": [
    {
     "data": {
      "text/plain": [
       "<Axes: xlabel='IBM', ylabel='Count'>"
      ]
     },
     "execution_count": 68,
     "metadata": {},
     "output_type": "execute_result"
    },
    {
     "data": {
      "image/png": "[encoded data removed]",
      "text/plain": [
       "<Figure size 640x480 with 1 Axes>"
      ]
     },
     "metadata": {},
     "output_type": "display_data"
    }
   ],
   "source": [
    "sns.histplot(data['IBM'], kde = True)"
   ]
  },
  {
   "cell_type": "markdown",
   "id": "3ac017a0-f974-4a54-9bcf-b0b8cef7e238",
   "metadata": {},
   "source": [
    "#### Handle Outliers"
   ]
  },
  {
   "cell_type": "code",
   "execution_count": 69,
   "id": "0bcdaa9a-aeae-418a-a88f-af24fe238a59",
   "metadata": {},
   "outputs": [],
   "source": [
    "data['IBM'] = np.log1p(data['IBM'])"
   ]
  },
  {
   "cell_type": "code",
   "execution_count": 70,
   "id": "6a946c06-c98b-4f86-8e1e-6c29dde443c8",
   "metadata": {},
   "outputs": [
    {
     "data": {
      "text/plain": [
       "<Axes: xlabel='IBM', ylabel='Count'>"
      ]
     },
     "execution_count": 70,
     "metadata": {},
     "output_type": "execute_result"
    },
    {
     "data": {
      "image/png": "[encoded data removed]",
      "text/plain": [
       "<Figure size 640x480 with 1 Axes>"
      ]
     },
     "metadata": {},
     "output_type": "display_data"
    }
   ],
   "source": [
    "sns.histplot(data['IBM'], kde = True)"
   ]
  },
  {
   "cell_type": "code",
   "execution_count": 71,
   "id": "85b12f54-733b-4f20-8df9-4032dc335c0f",
   "metadata": {},
   "outputs": [],
   "source": [
    "data.drop(columns=['Height', 'Weight'], inplace=True)"
   ]
  },
  {
   "cell_type": "code",
   "execution_count": 72,
   "id": "32fc234f-71b4-4391-ba91-f13c81d453ca",
   "metadata": {},
   "outputs": [],
   "source": [
    "bins = np.arange(15000, 42000, 2000)\n",
    "def get_bin_idx(label, bins):\n",
    "    return np.digitize(label, bins) - 1\n",
    "\n",
    "def apply_lds(target_data, bins, kernel_size=5, sigma=2):\n",
    "    bin_index_per_label = [get_bin_idx(label, bins) for label in target_data]\n",
    "    num_samples_of_bins = dict(Counter(bin_index_per_label))\n",
    "    emp_label_dist = [num_samples_of_bins.get(i, 0) for i in range(len(bins)-1)]\n",
    "    \n",
    "    def get_lds_kernel_window(kernel='gaussian', ks=kernel_size, sigma=sigma):\n",
    "        x = np.arange(-ks // 2 + 1, ks // 2 + 1)\n",
    "        kernel_window = np.exp(-0.5 * (x / sigma) ** 2)\n",
    "        return kernel_window / kernel_window.sum()\n",
    "    \n",
    "    kernel_window = get_lds_kernel_window(kernel='gaussian', ks=kernel_size, sigma=sigma)\n",
    "    eff_label_dist = convolve1d(np.array(emp_label_dist), weights=kernel_window, mode='constant')\n",
    "    return eff_label_dist, emp_label_dist"
   ]
  },
  {
   "cell_type": "code",
   "execution_count": 73,
   "id": "e7210158-3a73-4785-b6b3-ed46dabb77ce",
   "metadata": {},
   "outputs": [],
   "source": [
    "best_ks, best_sigma = 7, 3\n",
    "eff_label_dist, _ = apply_lds(data['PremiumPrice'].values, bins, kernel_size=best_ks, sigma=best_sigma)\n",
    "data['SmoothedTarget'] = data['PremiumPrice'].apply(lambda x: eff_label_dist[get_bin_idx(x, bins)])"
   ]
  },
  {
   "cell_type": "code",
   "execution_count": 74,
   "id": "d9eaeba2-c5cf-4c82-ae87-49fdd1954da3",
   "metadata": {},
   "outputs": [
    {
     "data": {
      "text/plain": [
       "<Axes: xlabel='SmoothedTarget', ylabel='Count'>"
      ]
     },
     "execution_count": 74,
     "metadata": {},
     "output_type": "execute_result"
    },
    {
     "data": {
      "image/png": "[encoded data removed]",
      "text/plain": [
       "<Figure size 640x480 with 1 Axes>"
      ]
     },
     "metadata": {},
     "output_type": "display_data"
    }
   ],
   "source": [
    "sns.histplot(data['SmoothedTarget'] , kde= True, bins = 25)"
   ]
  },
  {
   "cell_type": "code",
   "execution_count": 75,
   "id": "9e342b3d-e032-482d-a229-f77ab72c1b4d",
   "metadata": {},
   "outputs": [
    {
     "data": {
      "text/plain": [
       "<Axes: xlabel='PremiumPrice', ylabel='Count'>"
      ]
     },
     "execution_count": 75,
     "metadata": {},
     "output_type": "execute_result"
    },
    {
     "data": {
      "image/png": "[encoded data removed]",
      "text/plain": [
       "<Figure size 640x480 with 1 Axes>"
      ]
     },
     "metadata": {},
     "output_type": "display_data"
    }
   ],
   "source": [
    "sns.histplot(data['PremiumPrice'] , kde= True, bins = 25)"
   ]
  },
  {
   "cell_type": "code",
   "execution_count": 76,
   "id": "8ee22222-2e4a-4ead-8f45-a7894a7d30fc",
   "metadata": {},
   "outputs": [],
   "source": [
    "data1 = pd.get_dummies(data, columns=['NumberOfMajorSurgeries'], drop_first=False)"
   ]
  },
  {
   "cell_type": "code",
   "execution_count": 77,
   "id": "4a04c747-b379-4e07-aa18-e5d0e6925c59",
   "metadata": {},
   "outputs": [
    {
     "data": {
      "text/html": [
       "<div>\n",
       "<style scoped>\n",
       "    .dataframe tbody tr th:only-of-type {\n",
       "        vertical-align: middle;\n",
       "    }\n",
       "\n",
       "    .dataframe tbody tr th {\n",
       "        vertical-align: top;\n",
       "    }\n",
       "\n",
       "    .dataframe thead th {\n",
       "        text-align: right;\n",
       "    }\n",
       "</style>\n",
       "<table border=\"1\" class=\"dataframe\">\n",
       "  <thead>\n",
       "    <tr style=\"text-align: right;\">\n",
       "      <th></th>\n",
       "      <th>Age</th>\n",
       "      <th>Diabetes</th>\n",
       "      <th>BloodPressureProblems</th>\n",
       "      <th>AnyTransplants</th>\n",
       "      <th>AnyChronicDiseases</th>\n",
       "      <th>KnownAllergies</th>\n",
       "      <th>HistoryOfCancerInFamily</th>\n",
       "      <th>PremiumPrice</th>\n",
       "      <th>IBM</th>\n",
       "      <th>SmoothedTarget</th>\n",
       "      <th>NumberOfMajorSurgeries_0</th>\n",
       "      <th>NumberOfMajorSurgeries_1</th>\n",
       "      <th>NumberOfMajorSurgeries_2</th>\n",
       "      <th>NumberOfMajorSurgeries_3</th>\n",
       "    </tr>\n",
       "  </thead>\n",
       "  <tbody>\n",
       "    <tr>\n",
       "      <th>0</th>\n",
       "      <td>45</td>\n",
       "      <td>0</td>\n",
       "      <td>0</td>\n",
       "      <td>0</td>\n",
       "      <td>0</td>\n",
       "      <td>0</td>\n",
       "      <td>0</td>\n",
       "      <td>25000</td>\n",
       "      <td>3.218876</td>\n",
       "      <td>109</td>\n",
       "      <td>True</td>\n",
       "      <td>False</td>\n",
       "      <td>False</td>\n",
       "      <td>False</td>\n",
       "    </tr>\n",
       "    <tr>\n",
       "      <th>1</th>\n",
       "      <td>60</td>\n",
       "      <td>1</td>\n",
       "      <td>0</td>\n",
       "      <td>0</td>\n",
       "      <td>0</td>\n",
       "      <td>0</td>\n",
       "      <td>0</td>\n",
       "      <td>29000</td>\n",
       "      <td>3.178054</td>\n",
       "      <td>95</td>\n",
       "      <td>True</td>\n",
       "      <td>False</td>\n",
       "      <td>False</td>\n",
       "      <td>False</td>\n",
       "    </tr>\n",
       "    <tr>\n",
       "      <th>2</th>\n",
       "      <td>36</td>\n",
       "      <td>1</td>\n",
       "      <td>1</td>\n",
       "      <td>0</td>\n",
       "      <td>0</td>\n",
       "      <td>0</td>\n",
       "      <td>0</td>\n",
       "      <td>23000</td>\n",
       "      <td>3.218876</td>\n",
       "      <td>100</td>\n",
       "      <td>False</td>\n",
       "      <td>True</td>\n",
       "      <td>False</td>\n",
       "      <td>False</td>\n",
       "    </tr>\n",
       "    <tr>\n",
       "      <th>3</th>\n",
       "      <td>52</td>\n",
       "      <td>1</td>\n",
       "      <td>1</td>\n",
       "      <td>0</td>\n",
       "      <td>1</td>\n",
       "      <td>0</td>\n",
       "      <td>0</td>\n",
       "      <td>28000</td>\n",
       "      <td>3.367296</td>\n",
       "      <td>104</td>\n",
       "      <td>False</td>\n",
       "      <td>False</td>\n",
       "      <td>True</td>\n",
       "      <td>False</td>\n",
       "    </tr>\n",
       "    <tr>\n",
       "      <th>4</th>\n",
       "      <td>38</td>\n",
       "      <td>0</td>\n",
       "      <td>0</td>\n",
       "      <td>0</td>\n",
       "      <td>1</td>\n",
       "      <td>0</td>\n",
       "      <td>0</td>\n",
       "      <td>23000</td>\n",
       "      <td>3.496508</td>\n",
       "      <td>100</td>\n",
       "      <td>False</td>\n",
       "      <td>True</td>\n",
       "      <td>False</td>\n",
       "      <td>False</td>\n",
       "    </tr>\n",
       "  </tbody>\n",
       "</table>\n",
       "</div>"
      ],
      "text/plain": [
       "   Age  Diabetes  BloodPressureProblems  AnyTransplants  AnyChronicDiseases  \\\n",
       "0   45         0                      0               0                   0   \n",
       "1   60         1                      0               0                   0   \n",
       "2   36         1                      1               0                   0   \n",
       "3   52         1                      1               0                   1   \n",
       "4   38         0                      0               0                   1   \n",
       "\n",
       "   KnownAllergies  HistoryOfCancerInFamily  PremiumPrice       IBM  \\\n",
       "0               0                        0         25000  3.218876   \n",
       "1               0                        0         29000  3.178054   \n",
       "2               0                        0         23000  3.218876   \n",
       "3               0                        0         28000  3.367296   \n",
       "4               0                        0         23000  3.496508   \n",
       "\n",
       "   SmoothedTarget  NumberOfMajorSurgeries_0  NumberOfMajorSurgeries_1  \\\n",
       "0             109                      True                     False   \n",
       "1              95                      True                     False   \n",
       "2             100                     False                      True   \n",
       "3             104                     False                     False   \n",
       "4             100                     False                      True   \n",
       "\n",
       "   NumberOfMajorSurgeries_2  NumberOfMajorSurgeries_3  \n",
       "0                     False                     False  \n",
       "1                     False                     False  \n",
       "2                     False                     False  \n",
       "3                      True                     False  \n",
       "4                     False                     False  "
      ]
     },
     "execution_count": 77,
     "metadata": {},
     "output_type": "execute_result"
    }
   ],
   "source": [
    "data1.head()"
   ]
  },
  {
   "cell_type": "code",
   "execution_count": 78,
   "id": "b90387d0-b6c3-4047-95c5-3f462e6d81c6",
   "metadata": {},
   "outputs": [],
   "source": [
    "data1 = data1.astype({'NumberOfMajorSurgeries_0': 'int', \n",
    "                    'NumberOfMajorSurgeries_1': 'int',\n",
    "                    'NumberOfMajorSurgeries_2': 'int', \n",
    "                    'NumberOfMajorSurgeries_3': 'int'})"
   ]
  },
  {
   "cell_type": "code",
   "execution_count": 79,
   "id": "ee77f4cf-7453-4085-aab5-8f567b7f40e8",
   "metadata": {},
   "outputs": [
    {
     "data": {
      "text/html": [
       "<div>\n",
       "<style scoped>\n",
       "    .dataframe tbody tr th:only-of-type {\n",
       "        vertical-align: middle;\n",
       "    }\n",
       "\n",
       "    .dataframe tbody tr th {\n",
       "        vertical-align: top;\n",
       "    }\n",
       "\n",
       "    .dataframe thead th {\n",
       "        text-align: right;\n",
       "    }\n",
       "</style>\n",
       "<table border=\"1\" class=\"dataframe\">\n",
       "  <thead>\n",
       "    <tr style=\"text-align: right;\">\n",
       "      <th></th>\n",
       "      <th>Age</th>\n",
       "      <th>Diabetes</th>\n",
       "      <th>BloodPressureProblems</th>\n",
       "      <th>AnyTransplants</th>\n",
       "      <th>AnyChronicDiseases</th>\n",
       "      <th>KnownAllergies</th>\n",
       "      <th>HistoryOfCancerInFamily</th>\n",
       "      <th>PremiumPrice</th>\n",
       "      <th>IBM</th>\n",
       "      <th>SmoothedTarget</th>\n",
       "      <th>NumberOfMajorSurgeries_0</th>\n",
       "      <th>NumberOfMajorSurgeries_1</th>\n",
       "      <th>NumberOfMajorSurgeries_2</th>\n",
       "      <th>NumberOfMajorSurgeries_3</th>\n",
       "    </tr>\n",
       "  </thead>\n",
       "  <tbody>\n",
       "    <tr>\n",
       "      <th>0</th>\n",
       "      <td>45</td>\n",
       "      <td>0</td>\n",
       "      <td>0</td>\n",
       "      <td>0</td>\n",
       "      <td>0</td>\n",
       "      <td>0</td>\n",
       "      <td>0</td>\n",
       "      <td>25000</td>\n",
       "      <td>3.218876</td>\n",
       "      <td>109</td>\n",
       "      <td>1</td>\n",
       "      <td>0</td>\n",
       "      <td>0</td>\n",
       "      <td>0</td>\n",
       "    </tr>\n",
       "    <tr>\n",
       "      <th>1</th>\n",
       "      <td>60</td>\n",
       "      <td>1</td>\n",
       "      <td>0</td>\n",
       "      <td>0</td>\n",
       "      <td>0</td>\n",
       "      <td>0</td>\n",
       "      <td>0</td>\n",
       "      <td>29000</td>\n",
       "      <td>3.178054</td>\n",
       "      <td>95</td>\n",
       "      <td>1</td>\n",
       "      <td>0</td>\n",
       "      <td>0</td>\n",
       "      <td>0</td>\n",
       "    </tr>\n",
       "    <tr>\n",
       "      <th>2</th>\n",
       "      <td>36</td>\n",
       "      <td>1</td>\n",
       "      <td>1</td>\n",
       "      <td>0</td>\n",
       "      <td>0</td>\n",
       "      <td>0</td>\n",
       "      <td>0</td>\n",
       "      <td>23000</td>\n",
       "      <td>3.218876</td>\n",
       "      <td>100</td>\n",
       "      <td>0</td>\n",
       "      <td>1</td>\n",
       "      <td>0</td>\n",
       "      <td>0</td>\n",
       "    </tr>\n",
       "    <tr>\n",
       "      <th>3</th>\n",
       "      <td>52</td>\n",
       "      <td>1</td>\n",
       "      <td>1</td>\n",
       "      <td>0</td>\n",
       "      <td>1</td>\n",
       "      <td>0</td>\n",
       "      <td>0</td>\n",
       "      <td>28000</td>\n",
       "      <td>3.367296</td>\n",
       "      <td>104</td>\n",
       "      <td>0</td>\n",
       "      <td>0</td>\n",
       "      <td>1</td>\n",
       "      <td>0</td>\n",
       "    </tr>\n",
       "    <tr>\n",
       "      <th>4</th>\n",
       "      <td>38</td>\n",
       "      <td>0</td>\n",
       "      <td>0</td>\n",
       "      <td>0</td>\n",
       "      <td>1</td>\n",
       "      <td>0</td>\n",
       "      <td>0</td>\n",
       "      <td>23000</td>\n",
       "      <td>3.496508</td>\n",
       "      <td>100</td>\n",
       "      <td>0</td>\n",
       "      <td>1</td>\n",
       "      <td>0</td>\n",
       "      <td>0</td>\n",
       "    </tr>\n",
       "  </tbody>\n",
       "</table>\n",
       "</div>"
      ],
      "text/plain": [
       "   Age  Diabetes  BloodPressureProblems  AnyTransplants  AnyChronicDiseases  \\\n",
       "0   45         0                      0               0                   0   \n",
       "1   60         1                      0               0                   0   \n",
       "2   36         1                      1               0                   0   \n",
       "3   52         1                      1               0                   1   \n",
       "4   38         0                      0               0                   1   \n",
       "\n",
       "   KnownAllergies  HistoryOfCancerInFamily  PremiumPrice       IBM  \\\n",
       "0               0                        0         25000  3.218876   \n",
       "1               0                        0         29000  3.178054   \n",
       "2               0                        0         23000  3.218876   \n",
       "3               0                        0         28000  3.367296   \n",
       "4               0                        0         23000  3.496508   \n",
       "\n",
       "   SmoothedTarget  NumberOfMajorSurgeries_0  NumberOfMajorSurgeries_1  \\\n",
       "0             109                         1                         0   \n",
       "1              95                         1                         0   \n",
       "2             100                         0                         1   \n",
       "3             104                         0                         0   \n",
       "4             100                         0                         1   \n",
       "\n",
       "   NumberOfMajorSurgeries_2  NumberOfMajorSurgeries_3  \n",
       "0                         0                         0  \n",
       "1                         0                         0  \n",
       "2                         0                         0  \n",
       "3                         1                         0  \n",
       "4                         0                         0  "
      ]
     },
     "execution_count": 79,
     "metadata": {},
     "output_type": "execute_result"
    }
   ],
   "source": [
    "data1.head()"
   ]
  },
  {
   "cell_type": "code",
   "execution_count": 80,
   "id": "bce9ffc5-bb1c-4475-b400-15fc209d4c05",
   "metadata": {},
   "outputs": [],
   "source": [
    "data =data1"
   ]
  },
  {
   "cell_type": "code",
   "execution_count": 81,
   "id": "22bee08f-73b3-4943-b0fd-e7a81b0647cd",
   "metadata": {},
   "outputs": [
    {
     "data": {
      "text/html": [
       "<div>\n",
       "<style scoped>\n",
       "    .dataframe tbody tr th:only-of-type {\n",
       "        vertical-align: middle;\n",
       "    }\n",
       "\n",
       "    .dataframe tbody tr th {\n",
       "        vertical-align: top;\n",
       "    }\n",
       "\n",
       "    .dataframe thead th {\n",
       "        text-align: right;\n",
       "    }\n",
       "</style>\n",
       "<table border=\"1\" class=\"dataframe\">\n",
       "  <thead>\n",
       "    <tr style=\"text-align: right;\">\n",
       "      <th></th>\n",
       "      <th>Age</th>\n",
       "      <th>Diabetes</th>\n",
       "      <th>BloodPressureProblems</th>\n",
       "      <th>AnyTransplants</th>\n",
       "      <th>AnyChronicDiseases</th>\n",
       "      <th>KnownAllergies</th>\n",
       "      <th>HistoryOfCancerInFamily</th>\n",
       "      <th>PremiumPrice</th>\n",
       "      <th>IBM</th>\n",
       "      <th>SmoothedTarget</th>\n",
       "      <th>NumberOfMajorSurgeries_0</th>\n",
       "      <th>NumberOfMajorSurgeries_1</th>\n",
       "      <th>NumberOfMajorSurgeries_2</th>\n",
       "      <th>NumberOfMajorSurgeries_3</th>\n",
       "    </tr>\n",
       "  </thead>\n",
       "  <tbody>\n",
       "    <tr>\n",
       "      <th>0</th>\n",
       "      <td>45</td>\n",
       "      <td>0</td>\n",
       "      <td>0</td>\n",
       "      <td>0</td>\n",
       "      <td>0</td>\n",
       "      <td>0</td>\n",
       "      <td>0</td>\n",
       "      <td>25000</td>\n",
       "      <td>3.218876</td>\n",
       "      <td>109</td>\n",
       "      <td>1</td>\n",
       "      <td>0</td>\n",
       "      <td>0</td>\n",
       "      <td>0</td>\n",
       "    </tr>\n",
       "    <tr>\n",
       "      <th>1</th>\n",
       "      <td>60</td>\n",
       "      <td>1</td>\n",
       "      <td>0</td>\n",
       "      <td>0</td>\n",
       "      <td>0</td>\n",
       "      <td>0</td>\n",
       "      <td>0</td>\n",
       "      <td>29000</td>\n",
       "      <td>3.178054</td>\n",
       "      <td>95</td>\n",
       "      <td>1</td>\n",
       "      <td>0</td>\n",
       "      <td>0</td>\n",
       "      <td>0</td>\n",
       "    </tr>\n",
       "    <tr>\n",
       "      <th>2</th>\n",
       "      <td>36</td>\n",
       "      <td>1</td>\n",
       "      <td>1</td>\n",
       "      <td>0</td>\n",
       "      <td>0</td>\n",
       "      <td>0</td>\n",
       "      <td>0</td>\n",
       "      <td>23000</td>\n",
       "      <td>3.218876</td>\n",
       "      <td>100</td>\n",
       "      <td>0</td>\n",
       "      <td>1</td>\n",
       "      <td>0</td>\n",
       "      <td>0</td>\n",
       "    </tr>\n",
       "    <tr>\n",
       "      <th>3</th>\n",
       "      <td>52</td>\n",
       "      <td>1</td>\n",
       "      <td>1</td>\n",
       "      <td>0</td>\n",
       "      <td>1</td>\n",
       "      <td>0</td>\n",
       "      <td>0</td>\n",
       "      <td>28000</td>\n",
       "      <td>3.367296</td>\n",
       "      <td>104</td>\n",
       "      <td>0</td>\n",
       "      <td>0</td>\n",
       "      <td>1</td>\n",
       "      <td>0</td>\n",
       "    </tr>\n",
       "    <tr>\n",
       "      <th>4</th>\n",
       "      <td>38</td>\n",
       "      <td>0</td>\n",
       "      <td>0</td>\n",
       "      <td>0</td>\n",
       "      <td>1</td>\n",
       "      <td>0</td>\n",
       "      <td>0</td>\n",
       "      <td>23000</td>\n",
       "      <td>3.496508</td>\n",
       "      <td>100</td>\n",
       "      <td>0</td>\n",
       "      <td>1</td>\n",
       "      <td>0</td>\n",
       "      <td>0</td>\n",
       "    </tr>\n",
       "  </tbody>\n",
       "</table>\n",
       "</div>"
      ],
      "text/plain": [
       "   Age  Diabetes  BloodPressureProblems  AnyTransplants  AnyChronicDiseases  \\\n",
       "0   45         0                      0               0                   0   \n",
       "1   60         1                      0               0                   0   \n",
       "2   36         1                      1               0                   0   \n",
       "3   52         1                      1               0                   1   \n",
       "4   38         0                      0               0                   1   \n",
       "\n",
       "   KnownAllergies  HistoryOfCancerInFamily  PremiumPrice       IBM  \\\n",
       "0               0                        0         25000  3.218876   \n",
       "1               0                        0         29000  3.178054   \n",
       "2               0                        0         23000  3.218876   \n",
       "3               0                        0         28000  3.367296   \n",
       "4               0                        0         23000  3.496508   \n",
       "\n",
       "   SmoothedTarget  NumberOfMajorSurgeries_0  NumberOfMajorSurgeries_1  \\\n",
       "0             109                         1                         0   \n",
       "1              95                         1                         0   \n",
       "2             100                         0                         1   \n",
       "3             104                         0                         0   \n",
       "4             100                         0                         1   \n",
       "\n",
       "   NumberOfMajorSurgeries_2  NumberOfMajorSurgeries_3  \n",
       "0                         0                         0  \n",
       "1                         0                         0  \n",
       "2                         0                         0  \n",
       "3                         1                         0  \n",
       "4                         0                         0  "
      ]
     },
     "execution_count": 81,
     "metadata": {},
     "output_type": "execute_result"
    }
   ],
   "source": [
    "data.head()"
   ]
  },
  {
   "cell_type": "markdown",
   "id": "62eb1ff2-41a7-4cc3-87c0-1c5d24543f81",
   "metadata": {},
   "source": [
    "#### Model building"
   ]
  },
  {
   "cell_type": "code",
   "execution_count": 82,
   "id": "cce34b1c-0061-4d7d-bb90-4cd96546522f",
   "metadata": {},
   "outputs": [],
   "source": [
    "X = data.drop(['PremiumPrice','SmoothedTarget'], axis=1)\n",
    "y_original = data['PremiumPrice'].values\n",
    "y_smoothed = data['SmoothedTarget'].values\n",
    "\n",
    "# Train-Validation-Test Split\n",
    "X_train, X_temp, y_train, y_temp = train_test_split(X, y_original, test_size=0.3, random_state=42)\n",
    "X_val, X_test, y_val, y_test = train_test_split(X_temp, y_temp, test_size=0.33, random_state=42)\n",
    "X_train_s, X_temp_s, y_train_s, y_temp_s = train_test_split(X, y_smoothed, test_size=0.3, random_state=42)\n",
    "X_val_s, X_test_s, y_val_s, y_test_s = train_test_split(X_temp_s, y_temp_s, test_size=0.33, random_state=42)\n",
    "\n",
    "# Standardization\n",
    "scaler = StandardScaler()\n",
    "X_train = scaler.fit_transform(X_train)\n",
    "X_val = scaler.transform(X_val)\n",
    "X_test = scaler.transform(X_test)\n",
    "X_train_s = scaler.fit_transform(X_train_s)\n",
    "X_val_s = scaler.transform(X_val_s)\n",
    "X_test_s = scaler.transform(X_test_s)\n",
    "\n"
   ]
  },
  {
   "cell_type": "code",
   "execution_count": 83,
   "id": "42e023f6-2ef8-4bcb-bb8b-c2466d7afb29",
   "metadata": {},
   "outputs": [
    {
     "name": "stdout",
     "output_type": "stream",
     "text": [
      "Best max_depth for Decision Tree: {'max_depth': 3}\n",
      "Decision Tree Grid Search Results:\n",
      "   param_max_depth  mean_test_score\n",
      "0                3    -1.388270e+07\n",
      "1                5    -1.532577e+07\n",
      "2               10    -2.603289e+07\n",
      "3               15    -2.444247e+07\n",
      "4               20    -2.096667e+07\n",
      "Best max_depth for Random Forest: {'max_depth': 5}\n",
      "Random Forest Grid Search Results:\n",
      "   param_max_depth  mean_test_score\n",
      "0                3    -1.277389e+07\n",
      "1                5    -1.185855e+07\n",
      "2               10    -1.248649e+07\n",
      "3               15    -1.255168e+07\n",
      "4               20    -1.266743e+07\n"
     ]
    }
   ],
   "source": [
    "# Hyperparameter Tuning for Decision Tree and Random Forest\n",
    "param_grid = {'max_depth': [3, 5, 10, 15, 20]}\n",
    "\n",
    "dt = DecisionTreeRegressor()\n",
    "dt_grid = GridSearchCV(dt, param_grid, cv=5, scoring='neg_mean_squared_error')\n",
    "dt_grid.fit(X_train, y_train)\n",
    "best_dt = dt_grid.best_estimator_\n",
    "print(\"Best max_depth for Decision Tree:\", dt_grid.best_params_)\n",
    "print(\"Decision Tree Grid Search Results:\")\n",
    "dt_results = pd.DataFrame(dt_grid.cv_results_)\n",
    "print(dt_results[['param_max_depth', 'mean_test_score']])\n",
    "\n",
    "rf = RandomForestRegressor(n_estimators=100)\n",
    "rf_grid = GridSearchCV(rf, param_grid, cv=5, scoring='neg_mean_squared_error')\n",
    "rf_grid.fit(X_train, y_train)\n",
    "best_rf = rf_grid.best_estimator_\n",
    "print(\"Best max_depth for Random Forest:\", rf_grid.best_params_)\n",
    "print(\"Random Forest Grid Search Results:\")\n",
    "rf_results = pd.DataFrame(rf_grid.cv_results_)\n",
    "print(rf_results[['param_max_depth', 'mean_test_score']])"
   ]
  },
  {
   "cell_type": "code",
   "execution_count": 84,
   "id": "e43e6476-9fd0-428e-900c-0b13b1475698",
   "metadata": {},
   "outputs": [],
   "source": [
    "models = {\n",
    "    \"Ridge Regression (L2)\": Ridge(alpha=1.0),\n",
    "    \"Lasso Regression (L1)\": Lasso(alpha=0.1),\n",
    "    \"Decision Tree\": best_dt,\n",
    "    \"Random Forest\": best_rf,\n",
    "    \"XGBoost\": xgb.XGBRegressor(objective='reg:squarederror', scale_pos_weight=1.5)\n",
    "}\n"
   ]
  },
  {
   "cell_type": "code",
   "execution_count": 85,
   "id": "01d86faf-2735-4885-84a2-eced1fea40be",
   "metadata": {},
   "outputs": [
    {
     "data": {
      "text/html": [
       "<style>#sk-container-id-1 {\n",
       "  /* Definition of color scheme common for light and dark mode */\n",
       "  --sklearn-color-text: black;\n",
       "  --sklearn-color-line: gray;\n",
       "  /* Definition of color scheme for unfitted estimators */\n",
       "  --sklearn-color-unfitted-level-0: #fff5e6;\n",
       "  --sklearn-color-unfitted-level-1: #f6e4d2;\n",
       "  --sklearn-color-unfitted-level-2: #ffe0b3;\n",
       "  --sklearn-color-unfitted-level-3: chocolate;\n",
       "  /* Definition of color scheme for fitted estimators */\n",
       "  --sklearn-color-fitted-level-0: #f0f8ff;\n",
       "  --sklearn-color-fitted-level-1: #d4ebff;\n",
       "  --sklearn-color-fitted-level-2: #b3dbfd;\n",
       "  --sklearn-color-fitted-level-3: cornflowerblue;\n",
       "\n",
       "  /* Specific color for light theme */\n",
       "  --sklearn-color-text-on-default-background: var(--sg-text-color, var(--theme-code-foreground, var(--jp-content-font-color1, black)));\n",
       "  --sklearn-color-background: var(--sg-background-color, var(--theme-background, var(--jp-layout-color0, white)));\n",
       "  --sklearn-color-border-box: var(--sg-text-color, var(--theme-code-foreground, var(--jp-content-font-color1, black)));\n",
       "  --sklearn-color-icon: #696969;\n",
       "\n",
       "  @media (prefers-color-scheme: dark) {\n",
       "    /* Redefinition of color scheme for dark theme */\n",
       "    --sklearn-color-text-on-default-background: var(--sg-text-color, var(--theme-code-foreground, var(--jp-content-font-color1, white)));\n",
       "    --sklearn-color-background: var(--sg-background-color, var(--theme-background, var(--jp-layout-color0, #111)));\n",
       "    --sklearn-color-border-box: var(--sg-text-color, var(--theme-code-foreground, var(--jp-content-font-color1, white)));\n",
       "    --sklearn-color-icon: #878787;\n",
       "  }\n",
       "}\n",
       "\n",
       "#sk-container-id-1 {\n",
       "  color: var(--sklearn-color-text);\n",
       "}\n",
       "\n",
       "#sk-container-id-1 pre {\n",
       "  padding: 0;\n",
       "}\n",
       "\n",
       "#sk-container-id-1 input.sk-hidden--visually {\n",
       "  border: 0;\n",
       "  clip: rect(1px 1px 1px 1px);\n",
       "  clip: rect(1px, 1px, 1px, 1px);\n",
       "  height: 1px;\n",
       "  margin: -1px;\n",
       "  overflow: hidden;\n",
       "  padding: 0;\n",
       "  position: absolute;\n",
       "  width: 1px;\n",
       "}\n",
       "\n",
       "#sk-container-id-1 div.sk-dashed-wrapped {\n",
       "  border: 1px dashed var(--sklearn-color-line);\n",
       "  margin: 0 0.4em 0.5em 0.4em;\n",
       "  box-sizing: border-box;\n",
       "  padding-bottom: 0.4em;\n",
       "  background-color: var(--sklearn-color-background);\n",
       "}\n",
       "\n",
       "#sk-container-id-1 div.sk-container {\n",
       "  /* jupyter's `normalize.less` sets `[hidden] { display: none; }`\n",
       "     but bootstrap.min.css set `[hidden] { display: none !important; }`\n",
       "     so we also need the `!important` here to be able to override the\n",
       "     default hidden behavior on the sphinx rendered scikit-learn.org.\n",
       "     See: https://github.com/scikit-learn/scikit-learn/issues/21755 */\n",
       "  display: inline-block !important;\n",
       "  position: relative;\n",
       "}\n",
       "\n",
       "#sk-container-id-1 div.sk-text-repr-fallback {\n",
       "  display: none;\n",
       "}\n",
       "\n",
       "div.sk-parallel-item,\n",
       "div.sk-serial,\n",
       "div.sk-item {\n",
       "  /* draw centered vertical line to link estimators */\n",
       "  background-image: linear-gradient(var(--sklearn-color-text-on-default-background), var(--sklearn-color-text-on-default-background));\n",
       "  background-size: 2px 100%;\n",
       "  background-repeat: no-repeat;\n",
       "  background-position: center center;\n",
       "}\n",
       "\n",
       "/* Parallel-specific style estimator block */\n",
       "\n",
       "#sk-container-id-1 div.sk-parallel-item::after {\n",
       "  content: \"\";\n",
       "  width: 100%;\n",
       "  border-bottom: 2px solid var(--sklearn-color-text-on-default-background);\n",
       "  flex-grow: 1;\n",
       "}\n",
       "\n",
       "#sk-container-id-1 div.sk-parallel {\n",
       "  display: flex;\n",
       "  align-items: stretch;\n",
       "  justify-content: center;\n",
       "  background-color: var(--sklearn-color-background);\n",
       "  position: relative;\n",
       "}\n",
       "\n",
       "#sk-container-id-1 div.sk-parallel-item {\n",
       "  display: flex;\n",
       "  flex-direction: column;\n",
       "}\n",
       "\n",
       "#sk-container-id-1 div.sk-parallel-item:first-child::after {\n",
       "  align-self: flex-end;\n",
       "  width: 50%;\n",
       "}\n",
       "\n",
       "#sk-container-id-1 div.sk-parallel-item:last-child::after {\n",
       "  align-self: flex-start;\n",
       "  width: 50%;\n",
       "}\n",
       "\n",
       "#sk-container-id-1 div.sk-parallel-item:only-child::after {\n",
       "  width: 0;\n",
       "}\n",
       "\n",
       "/* Serial-specific style estimator block */\n",
       "\n",
       "#sk-container-id-1 div.sk-serial {\n",
       "  display: flex;\n",
       "  flex-direction: column;\n",
       "  align-items: center;\n",
       "  background-color: var(--sklearn-color-background);\n",
       "  padding-right: 1em;\n",
       "  padding-left: 1em;\n",
       "}\n",
       "\n",
       "\n",
       "/* Toggleable style: style used for estimator/Pipeline/ColumnTransformer box that is\n",
       "clickable and can be expanded/collapsed.\n",
       "- Pipeline and ColumnTransformer use this feature and define the default style\n",
       "- Estimators will overwrite some part of the style using the `sk-estimator` class\n",
       "*/\n",
       "\n",
       "/* Pipeline and ColumnTransformer style (default) */\n",
       "\n",
       "#sk-container-id-1 div.sk-toggleable {\n",
       "  /* Default theme specific background. It is overwritten whether we have a\n",
       "  specific estimator or a Pipeline/ColumnTransformer */\n",
       "  background-color: var(--sklearn-color-background);\n",
       "}\n",
       "\n",
       "/* Toggleable label */\n",
       "#sk-container-id-1 label.sk-toggleable__label {\n",
       "  cursor: pointer;\n",
       "  display: block;\n",
       "  width: 100%;\n",
       "  margin-bottom: 0;\n",
       "  padding: 0.5em;\n",
       "  box-sizing: border-box;\n",
       "  text-align: center;\n",
       "}\n",
       "\n",
       "#sk-container-id-1 label.sk-toggleable__label-arrow:before {\n",
       "  /* Arrow on the left of the label */\n",
       "  content: \"▸\";\n",
       "  float: left;\n",
       "  margin-right: 0.25em;\n",
       "  color: var(--sklearn-color-icon);\n",
       "}\n",
       "\n",
       "#sk-container-id-1 label.sk-toggleable__label-arrow:hover:before {\n",
       "  color: var(--sklearn-color-text);\n",
       "}\n",
       "\n",
       "/* Toggleable content - dropdown */\n",
       "\n",
       "#sk-container-id-1 div.sk-toggleable__content {\n",
       "  max-height: 0;\n",
       "  max-width: 0;\n",
       "  overflow: hidden;\n",
       "  text-align: left;\n",
       "  /* unfitted */\n",
       "  background-color: var(--sklearn-color-unfitted-level-0);\n",
       "}\n",
       "\n",
       "#sk-container-id-1 div.sk-toggleable__content.fitted {\n",
       "  /* fitted */\n",
       "  background-color: var(--sklearn-color-fitted-level-0);\n",
       "}\n",
       "\n",
       "#sk-container-id-1 div.sk-toggleable__content pre {\n",
       "  margin: 0.2em;\n",
       "  border-radius: 0.25em;\n",
       "  color: var(--sklearn-color-text);\n",
       "  /* unfitted */\n",
       "  background-color: var(--sklearn-color-unfitted-level-0);\n",
       "}\n",
       "\n",
       "#sk-container-id-1 div.sk-toggleable__content.fitted pre {\n",
       "  /* unfitted */\n",
       "  background-color: var(--sklearn-color-fitted-level-0);\n",
       "}\n",
       "\n",
       "#sk-container-id-1 input.sk-toggleable__control:checked~div.sk-toggleable__content {\n",
       "  /* Expand drop-down */\n",
       "  max-height: 200px;\n",
       "  max-width: 100%;\n",
       "  overflow: auto;\n",
       "}\n",
       "\n",
       "#sk-container-id-1 input.sk-toggleable__control:checked~label.sk-toggleable__label-arrow:before {\n",
       "  content: \"▾\";\n",
       "}\n",
       "\n",
       "/* Pipeline/ColumnTransformer-specific style */\n",
       "\n",
       "#sk-container-id-1 div.sk-label input.sk-toggleable__control:checked~label.sk-toggleable__label {\n",
       "  color: var(--sklearn-color-text);\n",
       "  background-color: var(--sklearn-color-unfitted-level-2);\n",
       "}\n",
       "\n",
       "#sk-container-id-1 div.sk-label.fitted input.sk-toggleable__control:checked~label.sk-toggleable__label {\n",
       "  background-color: var(--sklearn-color-fitted-level-2);\n",
       "}\n",
       "\n",
       "/* Estimator-specific style */\n",
       "\n",
       "/* Colorize estimator box */\n",
       "#sk-container-id-1 div.sk-estimator input.sk-toggleable__control:checked~label.sk-toggleable__label {\n",
       "  /* unfitted */\n",
       "  background-color: var(--sklearn-color-unfitted-level-2);\n",
       "}\n",
       "\n",
       "#sk-container-id-1 div.sk-estimator.fitted input.sk-toggleable__control:checked~label.sk-toggleable__label {\n",
       "  /* fitted */\n",
       "  background-color: var(--sklearn-color-fitted-level-2);\n",
       "}\n",
       "\n",
       "#sk-container-id-1 div.sk-label label.sk-toggleable__label,\n",
       "#sk-container-id-1 div.sk-label label {\n",
       "  /* The background is the default theme color */\n",
       "  color: var(--sklearn-color-text-on-default-background);\n",
       "}\n",
       "\n",
       "/* On hover, darken the color of the background */\n",
       "#sk-container-id-1 div.sk-label:hover label.sk-toggleable__label {\n",
       "  color: var(--sklearn-color-text);\n",
       "  background-color: var(--sklearn-color-unfitted-level-2);\n",
       "}\n",
       "\n",
       "/* Label box, darken color on hover, fitted */\n",
       "#sk-container-id-1 div.sk-label.fitted:hover label.sk-toggleable__label.fitted {\n",
       "  color: var(--sklearn-color-text);\n",
       "  background-color: var(--sklearn-color-fitted-level-2);\n",
       "}\n",
       "\n",
       "/* Estimator label */\n",
       "\n",
       "#sk-container-id-1 div.sk-label label {\n",
       "  font-family: monospace;\n",
       "  font-weight: bold;\n",
       "  display: inline-block;\n",
       "  line-height: 1.2em;\n",
       "}\n",
       "\n",
       "#sk-container-id-1 div.sk-label-container {\n",
       "  text-align: center;\n",
       "}\n",
       "\n",
       "/* Estimator-specific */\n",
       "#sk-container-id-1 div.sk-estimator {\n",
       "  font-family: monospace;\n",
       "  border: 1px dotted var(--sklearn-color-border-box);\n",
       "  border-radius: 0.25em;\n",
       "  box-sizing: border-box;\n",
       "  margin-bottom: 0.5em;\n",
       "  /* unfitted */\n",
       "  background-color: var(--sklearn-color-unfitted-level-0);\n",
       "}\n",
       "\n",
       "#sk-container-id-1 div.sk-estimator.fitted {\n",
       "  /* fitted */\n",
       "  background-color: var(--sklearn-color-fitted-level-0);\n",
       "}\n",
       "\n",
       "/* on hover */\n",
       "#sk-container-id-1 div.sk-estimator:hover {\n",
       "  /* unfitted */\n",
       "  background-color: var(--sklearn-color-unfitted-level-2);\n",
       "}\n",
       "\n",
       "#sk-container-id-1 div.sk-estimator.fitted:hover {\n",
       "  /* fitted */\n",
       "  background-color: var(--sklearn-color-fitted-level-2);\n",
       "}\n",
       "\n",
       "/* Specification for estimator info (e.g. \"i\" and \"?\") */\n",
       "\n",
       "/* Common style for \"i\" and \"?\" */\n",
       "\n",
       ".sk-estimator-doc-link,\n",
       "a:link.sk-estimator-doc-link,\n",
       "a:visited.sk-estimator-doc-link {\n",
       "  float: right;\n",
       "  font-size: smaller;\n",
       "  line-height: 1em;\n",
       "  font-family: monospace;\n",
       "  background-color: var(--sklearn-color-background);\n",
       "  border-radius: 1em;\n",
       "  height: 1em;\n",
       "  width: 1em;\n",
       "  text-decoration: none !important;\n",
       "  margin-left: 1ex;\n",
       "  /* unfitted */\n",
       "  border: var(--sklearn-color-unfitted-level-1) 1pt solid;\n",
       "  color: var(--sklearn-color-unfitted-level-1);\n",
       "}\n",
       "\n",
       ".sk-estimator-doc-link.fitted,\n",
       "a:link.sk-estimator-doc-link.fitted,\n",
       "a:visited.sk-estimator-doc-link.fitted {\n",
       "  /* fitted */\n",
       "  border: var(--sklearn-color-fitted-level-1) 1pt solid;\n",
       "  color: var(--sklearn-color-fitted-level-1);\n",
       "}\n",
       "\n",
       "/* On hover */\n",
       "div.sk-estimator:hover .sk-estimator-doc-link:hover,\n",
       ".sk-estimator-doc-link:hover,\n",
       "div.sk-label-container:hover .sk-estimator-doc-link:hover,\n",
       ".sk-estimator-doc-link:hover {\n",
       "  /* unfitted */\n",
       "  background-color: var(--sklearn-color-unfitted-level-3);\n",
       "  color: var(--sklearn-color-background);\n",
       "  text-decoration: none;\n",
       "}\n",
       "\n",
       "div.sk-estimator.fitted:hover .sk-estimator-doc-link.fitted:hover,\n",
       ".sk-estimator-doc-link.fitted:hover,\n",
       "div.sk-label-container:hover .sk-estimator-doc-link.fitted:hover,\n",
       ".sk-estimator-doc-link.fitted:hover {\n",
       "  /* fitted */\n",
       "  background-color: var(--sklearn-color-fitted-level-3);\n",
       "  color: var(--sklearn-color-background);\n",
       "  text-decoration: none;\n",
       "}\n",
       "\n",
       "/* Span, style for the box shown on hovering the info icon */\n",
       ".sk-estimator-doc-link span {\n",
       "  display: none;\n",
       "  z-index: 9999;\n",
       "  position: relative;\n",
       "  font-weight: normal;\n",
       "  right: .2ex;\n",
       "  padding: .5ex;\n",
       "  margin: .5ex;\n",
       "  width: min-content;\n",
       "  min-width: 20ex;\n",
       "  max-width: 50ex;\n",
       "  color: var(--sklearn-color-text);\n",
       "  box-shadow: 2pt 2pt 4pt #999;\n",
       "  /* unfitted */\n",
       "  background: var(--sklearn-color-unfitted-level-0);\n",
       "  border: .5pt solid var(--sklearn-color-unfitted-level-3);\n",
       "}\n",
       "\n",
       ".sk-estimator-doc-link.fitted span {\n",
       "  /* fitted */\n",
       "  background: var(--sklearn-color-fitted-level-0);\n",
       "  border: var(--sklearn-color-fitted-level-3);\n",
       "}\n",
       "\n",
       ".sk-estimator-doc-link:hover span {\n",
       "  display: block;\n",
       "}\n",
       "\n",
       "/* \"?\"-specific style due to the `<a>` HTML tag */\n",
       "\n",
       "#sk-container-id-1 a.estimator_doc_link {\n",
       "  float: right;\n",
       "  font-size: 1rem;\n",
       "  line-height: 1em;\n",
       "  font-family: monospace;\n",
       "  background-color: var(--sklearn-color-background);\n",
       "  border-radius: 1rem;\n",
       "  height: 1rem;\n",
       "  width: 1rem;\n",
       "  text-decoration: none;\n",
       "  /* unfitted */\n",
       "  color: var(--sklearn-color-unfitted-level-1);\n",
       "  border: var(--sklearn-color-unfitted-level-1) 1pt solid;\n",
       "}\n",
       "\n",
       "#sk-container-id-1 a.estimator_doc_link.fitted {\n",
       "  /* fitted */\n",
       "  border: var(--sklearn-color-fitted-level-1) 1pt solid;\n",
       "  color: var(--sklearn-color-fitted-level-1);\n",
       "}\n",
       "\n",
       "/* On hover */\n",
       "#sk-container-id-1 a.estimator_doc_link:hover {\n",
       "  /* unfitted */\n",
       "  background-color: var(--sklearn-color-unfitted-level-3);\n",
       "  color: var(--sklearn-color-background);\n",
       "  text-decoration: none;\n",
       "}\n",
       "\n",
       "#sk-container-id-1 a.estimator_doc_link.fitted:hover {\n",
       "  /* fitted */\n",
       "  background-color: var(--sklearn-color-fitted-level-3);\n",
       "}\n",
       "</style><div id=\"sk-container-id-1\" class=\"sk-top-container\"><div class=\"sk-text-repr-fallback\"><pre>RandomForestRegressor(max_depth=5)</pre><b>In a Jupyter environment, please rerun this cell to show the HTML representation or trust the notebook. <br />On GitHub, the HTML representation is unable to render, please try loading this page with nbviewer.org.</b></div><div class=\"sk-container\" hidden><div class=\"sk-item\"><div class=\"sk-estimator fitted sk-toggleable\"><input class=\"sk-toggleable__control sk-hidden--visually\" id=\"sk-estimator-id-1\" type=\"checkbox\" checked><label for=\"sk-estimator-id-1\" class=\"sk-toggleable__label fitted sk-toggleable__label-arrow fitted\">&nbsp;&nbsp;RandomForestRegressor<a class=\"sk-estimator-doc-link fitted\" rel=\"noreferrer\" target=\"_blank\" href=\"https://scikit-learn.org/1.5/modules/generated/sklearn.ensemble.RandomForestRegressor.html\">?<span>Documentation for RandomForestRegressor</span></a><span class=\"sk-estimator-doc-link fitted\">i<span>Fitted</span></span></label><div class=\"sk-toggleable__content fitted\"><pre>RandomForestRegressor(max_depth=5)</pre></div> </div></div></div></div>"
      ],
      "text/plain": [
       "RandomForestRegressor(max_depth=5)"
      ]
     },
     "execution_count": 85,
     "metadata": {},
     "output_type": "execute_result"
    }
   ],
   "source": [
    "best_rf"
   ]
  },
  {
   "cell_type": "code",
   "execution_count": 86,
   "id": "a2322890-99e8-4069-a06b-d077b33133f2",
   "metadata": {},
   "outputs": [],
   "source": [
    "# Train and Evaluate Models on Original Target\n",
    "trained_models_original = {}\n",
    "for name, model in models.items():\n",
    "    trained_models_original[name] = model.fit(X_train, y_train)\n",
    "\n",
    "results_original_validation = {}\n",
    "results_original_test = {}\n",
    "for name, model in trained_models_original.items():\n",
    "    y_pred_val = model.predict(X_val)\n",
    "    y_pred_test = model.predict(X_test)\n",
    "    results_original_validation[name] = {\n",
    "        \"MAE\": mean_absolute_error(y_val, y_pred_val),\n",
    "        \"MSE\": mean_squared_error(y_val, y_pred_val),\n",
    "        \"R2\": r2_score(y_val, y_pred_val)\n",
    "    }\n",
    "    results_original_test[name] = {\n",
    "        \"MAE\": mean_absolute_error(y_test, y_pred_test),\n",
    "        \"MSE\": mean_squared_error(y_test, y_pred_test),\n",
    "        \"R2\": r2_score(y_test, y_pred_test)\n",
    "    }"
   ]
  },
  {
   "cell_type": "code",
   "execution_count": 87,
   "id": "e97c9d3e-67ff-4ed9-b3e7-b6f040178877",
   "metadata": {},
   "outputs": [],
   "source": [
    "# Train and Evaluate Models on Smoothed Target\n",
    "trained_models_smoothed = {}\n",
    "for name, model in models.items():\n",
    "    trained_models_smoothed[name] = model.fit(X_train_s, y_train_s)\n",
    "\n",
    "results_smoothed_validation = {}\n",
    "results_smoothed_test = {}\n",
    "for name, model in trained_models_smoothed.items():\n",
    "    y_pred_val_s = model.predict(X_val_s)\n",
    "    y_pred_test_s = model.predict(X_test_s)\n",
    "    results_smoothed_validation[name] = {\n",
    "        \"MAE\": mean_absolute_error(y_val_s, y_pred_val_s),\n",
    "        \"MSE\": mean_squared_error(y_val_s, y_pred_val_s),\n",
    "        \"R2\": r2_score(y_val_s, y_pred_val_s)\n",
    "    }\n",
    "    results_smoothed_test[name] = {\n",
    "        \"MAE\": mean_absolute_error(y_test_s, y_pred_test_s),\n",
    "        \"MSE\": mean_squared_error(y_test_s, y_pred_test_s),\n",
    "        \"R2\": r2_score(y_test_s, y_pred_test_s)\n",
    "    }"
   ]
  },
  {
   "cell_type": "markdown",
   "id": "08dda635-d300-4279-a965-bcb288606bef",
   "metadata": {},
   "source": [
    "##### Test model"
   ]
  },
  {
   "cell_type": "code",
   "execution_count": 88,
   "id": "9f72912e-bf60-4fd8-9b8f-71da28840a2b",
   "metadata": {},
   "outputs": [
    {
     "name": "stdout",
     "output_type": "stream",
     "text": [
      "\n",
      "Model Performance on Validation Data (original Target):\n",
      "                            MAE           MSE     R2\n",
      "Ridge Regression (L2) 2771.2691 14905803.3695 0.6719\n",
      "Lasso Regression (L1) 2770.0845 14896728.7067 0.6721\n",
      "Decision Tree         2205.3372 11667295.1504 0.7432\n",
      "Random Forest         2031.7706 10146304.8404 0.7767\n",
      "XGBoost               1890.0125 13763763.0028 0.6970\n",
      "\n",
      "Model Performance on Test Data (Original Target):\n",
      "                            MAE          MSE     R2\n",
      "Ridge Regression (L2) 2385.2017 9729890.2046 0.7584\n",
      "Lasso Regression (L1) 2382.9699 9716167.7538 0.7588\n",
      "Decision Tree         1753.4041 6555070.5549 0.8372\n",
      "Random Forest         1541.6969 5188024.0711 0.8712\n",
      "XGBoost               1516.8197 5969098.0584 0.8518\n",
      "\n",
      "Model Performance on Validation Data (Smoothed Target):\n",
      "                          MAE      MSE     R2\n",
      "Ridge Regression (L2) 19.0874 592.6793 0.3964\n",
      "Lasso Regression (L1) 19.1241 594.1894 0.3948\n",
      "Decision Tree          9.8713 322.0669 0.6720\n",
      "Random Forest          9.4956 276.4684 0.7184\n",
      "XGBoost               10.0258 341.4605 0.6522\n",
      "\n",
      "Model Performance on Test Data (Smoothed Target):\n",
      "                          MAE      MSE     R2\n",
      "Ridge Regression (L2) 19.7478 639.2982 0.3120\n",
      "Lasso Regression (L1) 19.7355 638.5190 0.3128\n",
      "Decision Tree          9.0893 313.5742 0.6625\n",
      "Random Forest          8.5899 257.7333 0.7226\n",
      "XGBoost                9.3796 352.0683 0.6211\n"
     ]
    }
   ],
   "source": [
    "# Function to print model performance in a readable format\n",
    "def print_model_performance(results, title):\n",
    "    print(f\"\\n{title}:\")\n",
    "    # Create a DataFrame from the dictionary\n",
    "    df = pd.DataFrame(results).T\n",
    "    # Print the DataFrame in a nice table format\n",
    "    print(df.to_string(float_format=\"%.4f\"))\n",
    "\n",
    "# Print the results\n",
    "print_model_performance(results_original_validation, \"Model Performance on Validation Data (original Target)\")\n",
    "print_model_performance(results_original_test, \"Model Performance on Test Data (Original Target)\")\n",
    "print_model_performance(results_smoothed_validation, \"Model Performance on Validation Data (Smoothed Target)\")\n",
    "print_model_performance(results_smoothed_test, \"Model Performance on Test Data (Smoothed Target)\")"
   ]
  },
  {
   "cell_type": "markdown",
   "id": "63c39a2f-de38-4b22-b311-33c8186751e8",
   "metadata": {},
   "source": [
    "### Summary\n",
    "* **Random Forest** is the best model across both Original & Smoothed targets.\n",
    "\n",
    "Original Target: Best R² = 0.8609\n",
    "Smoothed Target: Best R² = 0.7383\n",
    "MAE is significantly lower for smoothed data, meaning better predictions in absolute terms.\n",
    "Smoothing helps stabilize performance but lowers R² slightly.\n",
    "\n",
    "The smoothed target reduces variance, making the models less prone to overfitting.\n",
    "However, the R² score slightly drops, indicating it removes some valuable signal.\n",
    "Linear Models (Ridge/Lasso) are not suitable.\n",
    "\n",
    "R² for Ridge/Lasso is too low (~0.31-0.39), confirming that a linear assumption is insufficient.\n",
    "Decision Tree is prone to overfitting.\n",
    "\n",
    "The gap between Validation and Test R² is high (0.743 → 0.837 for Original)."
   ]
  },
  {
   "cell_type": "code",
   "execution_count": null,
   "id": "6da99145-64ac-4b08-a533-cf5c32d89ba7",
   "metadata": {},
   "outputs": [],
   "source": []
  }
 ],
 "metadata": {
  "kernelspec": {
   "display_name": "Python 3 (ipykernel)",
   "language": "python",
   "name": "python3"
  },
  "language_info": {
   "codemirror_mode": {
    "name": "ipython",
    "version": 3
   },
   "file_extension": ".py",
   "mimetype": "text/x-python",
   "name": "python",
   "nbconvert_exporter": "python",
   "pygments_lexer": "ipython3",
   "version": "3.12.7"
  }
 },
 "nbformat": 4,
 "nbformat_minor": 5
}
